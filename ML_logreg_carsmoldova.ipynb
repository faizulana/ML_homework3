{
  "nbformat": 4,
  "nbformat_minor": 0,
  "metadata": {
    "colab": {
      "provenance": []
    },
    "kernelspec": {
      "name": "python3",
      "display_name": "Python 3"
    },
    "language_info": {
      "name": "python"
    }
  },
  "cells": [
    {
      "cell_type": "markdown",
      "source": [
        "# Домашняя работа 3. Логистическая регрессия. Работа с датасетом Card Moldova"
      ],
      "metadata": {
        "id": "caB8UXkZKnWC"
      }
    },
    {
      "cell_type": "markdown",
      "source": [
        "## Подготовка"
      ],
      "metadata": {
        "id": "4wqJbfMYmYMc"
      }
    },
    {
      "cell_type": "markdown",
      "source": [
        "Импортируем библиотеки"
      ],
      "metadata": {
        "id": "qt7_nVbRK5YI"
      }
    },
    {
      "cell_type": "code",
      "source": [
        "import pandas as pd\n",
        "from google.colab import files \n",
        "\n",
        "import numpy as np\n",
        "import matplotlib.pyplot as plt \n",
        "import seaborn as sns; sns.set()\n",
        "\n",
        "from sklearn.model_selection import train_test_split\n",
        "from sklearn.preprocessing import MinMaxScaler"
      ],
      "metadata": {
        "id": "q70LfZhbK8K6"
      },
      "execution_count": null,
      "outputs": []
    },
    {
      "cell_type": "markdown",
      "source": [
        "Класс линейной регрессии без регуляризации"
      ],
      "metadata": {
        "id": "2fcYofHZ3_M-"
      }
    },
    {
      "cell_type": "code",
      "source": [
        "class LinearRegression():\n",
        "    def __init__(self, \n",
        "                 learning_rate = 0.5, \n",
        "                 epochs = 100, \n",
        "                 weights = None, \n",
        "                 bias    = None, \n",
        "                 batch_size   = 1000, \n",
        "                 random_state = 42):\n",
        "        self.lr      = learning_rate\n",
        "        self.epochs  = epochs\n",
        "        self.weights = weights\n",
        "        self.bias    = bias\n",
        "        self.seed    = random_state\n",
        "        self.batch_size = batch_size\n",
        "        self.cost    = np.zeros(epochs)\n",
        "        \n",
        "        # если веса и смещения заданы\n",
        "        if not(self.weights is None) and (self.bias):\n",
        "            if self.weights.size == X.shape[1]:\n",
        "            #совмещаем в один массив, если мы этого не сделали\n",
        "                self.weights = np.append(self.bias,self.weights)\n",
        "    \n",
        "    #метод для прямого распространения\n",
        "    def forward(self, X):\n",
        "        return self.weights.dot(X.T)\n",
        "    \n",
        "    #метод для рассчета функции потерь\n",
        "    def loss(self,yhat, y):\n",
        "        return np.square(yhat - y).sum()/y.size\n",
        "    \n",
        "    #метод для рассчета градиента\n",
        "    def grad_step(self,yhat, y, X):\n",
        "        return 2*np.dot(X.T, (yhat - y)) / y.size\n",
        "    \n",
        "    #метод для обновления весов\n",
        "    def update(self):    \n",
        "        return self.weights - self.lr*self.grad\n",
        "    \n",
        "    #метод для инициализации весов\n",
        "    def init(self, weights_size):\n",
        "        np.random.seed(self.seed)\n",
        "        return np.random.randn(weights_size)/np.sqrt(weights_size)\n",
        "    \n",
        "    #метод для добавления колонки смещения\n",
        "    def add_bias(self, X):\n",
        "        return np.column_stack((np.ones(X.shape[0]), X))\n",
        "\n",
        "    #метод для предсказания значений целевой переменной с текущими весами \n",
        "    def predict(self, X):\n",
        "        yhat = self.forward(self.add_bias(X))\n",
        "        return yhat\n",
        "    \n",
        "    #метод для оценки работы модели\n",
        "    def score(self, X, y):        \n",
        "        yhat = self.predict(X)\n",
        "        return 1-np.sum(np.square(y-yhat))/np.sum(np.square(y-np.mean(y)))\n",
        "\n",
        "     #метод для формирования и загрузки бэтча\n",
        "    def load_batch(self,X,y):\n",
        "        idx_batch = np.random.randint(0,X.shape[0],self.batch_size)\n",
        "        x_batch   = np.take(X, idx_batch, axis=0)\n",
        "        x_batch   = self.add_bias(x_batch)\n",
        "        y_batch   = np.take(y, idx_batch)\n",
        "        return  x_batch, y_batch\n",
        "\n",
        "    #метод обучения модели\n",
        "    def fit(self, X, y):\n",
        "\n",
        "        np.random.seed(self.seed)\n",
        "        \n",
        "        # в начале инициализируются веса и смещение и совмещаются в один массив\n",
        "        if self.weights is None:\n",
        "            self.weights = self.init(X.shape[1])\n",
        "        \n",
        "        if self.bias is None: \n",
        "            self.bias    = self.init(1)\n",
        "        \n",
        "        if self.weights.size == X.shape[1]:\n",
        "            self.weights = np.append(self.bias,self.weights)\n",
        "        \n",
        "        # инициализация градиента, потерь и загрузка батча\n",
        "        self.grad    = np.zeros(self.weights.shape)\n",
        "        self.cost    = np.zeros(self.epochs)\n",
        "\n",
        "        if self.batch_size is None:            \n",
        "            x_batch   = self.add_bias(X)\n",
        "            y_batch   = y\n",
        "        \n",
        "        for i in range(self.epochs): \n",
        "\n",
        "            if self.batch_size: \n",
        "                x_batch, y_batch = self.load_batch(X,y)\n",
        "\n",
        "            yhat         = self.forward(x_batch)\n",
        "            self.grad    = self.grad_step(yhat,  y_batch, x_batch) \n",
        "            self.weights = self.update()  \n",
        "            self.cost[i] = self.loss(yhat,  y_batch)\n",
        "\n",
        "        self.bias = self.weights[0]\n",
        "     \n",
        "    #функция построения графика потерь для проверки работы алгоритма\n",
        "    def plot_cost(self, figsize = (8,4), title = ''):\n",
        "        plt.figure(figsize = figsize)\n",
        "        plt.plot(self.cost)\n",
        "        plt.grid()\n",
        "        plt.xlabel('Эпоха', fontsize = 18)\n",
        "        plt.ylabel('Функция Потерь', fontsize = 18)\n",
        "        plt.title(title, fontsize = 24)\n",
        "        plt.show()\n",
        "    \n",
        "    #функция, возвращающая текущие значения весов и смещения\n",
        "    def get_w_and_b(self):\n",
        "        return (self.weights[1:], self.bias)"
      ],
      "metadata": {
        "id": "-d0bAEC_dK83"
      },
      "execution_count": null,
      "outputs": []
    },
    {
      "cell_type": "markdown",
      "source": [
        "Класс линейной регрессии с эластичной регуляризацией (L1 и L2)"
      ],
      "metadata": {
        "id": "Fu8KgVPN4ET-"
      }
    },
    {
      "cell_type": "code",
      "source": [
        "class ElasticRegression(LinearRegression):\n",
        "    def __init__(self, \n",
        "                 learning_rate = 0.5,\n",
        "                 l1_penalty = 0.001,\n",
        "                 l2_penalty = 0.001,\n",
        "                 epochs = 100, \n",
        "                 weights = None, \n",
        "                 bias    = None, \n",
        "                 batch_size   = 1000, \n",
        "                 random_state = 42):\n",
        "        \n",
        "        super().__init__(learning_rate = learning_rate,\n",
        "                         epochs = epochs, \n",
        "                         weights = weights, \n",
        "                         bias    = bias, \n",
        "                         batch_size   = batch_size, \n",
        "                         random_state = random_state)\n",
        "        self.l1_penalty = l1_penalty\n",
        "        self.l2_penalty = l2_penalty\n",
        "    #рассчет потерь с учетом \"штрафа\" за размер весов\n",
        "    def loss(self,yhat, y):   \n",
        "        l1_term = self.l1_penalty*np.sum(self.weights[1:])\n",
        "        l2_term = (self.l2_penalty/2)*np.sum(np.square(self.weights[1:]))\n",
        "        return np.square(yhat - y).mean() + l1_term + l2_term\n",
        "                  \n",
        "    \n",
        "    #прямое распространение\n",
        "    def update(self):    \n",
        "        l2_term = self.l2_penalty*np.sum(self.weights[1:])\n",
        "        return self.weights - self.lr*(self.grad +  np.sign(self.weights)*self.l1_penalty + l2_term)"
      ],
      "metadata": {
        "id": "Ml8Pngv_gqoU"
      },
      "execution_count": null,
      "outputs": []
    },
    {
      "cell_type": "markdown",
      "source": [
        "Класс логистической регрессии с эластичной регуляризацией"
      ],
      "metadata": {
        "id": "GYLwxOJqcbgC"
      }
    },
    {
      "cell_type": "code",
      "source": [
        "_EPS_ = 1e-6\n",
        "\n",
        "class LogisticRegression(ElasticRegression):\n",
        "    def __init__(self, \n",
        "                 learning_rate = 0.5,\n",
        "                 l1_penalty = 0.0,\n",
        "                 l2_penalty = 0.0,\n",
        "                 epochs = 100, \n",
        "                 weights = None, \n",
        "                 bias    = None, \n",
        "                 threshold = 0.5,\n",
        "                 batch_size   = 1000, \n",
        "                 random_state = 42):\n",
        "        \n",
        "        super().__init__(learning_rate = learning_rate,\n",
        "                         epochs = epochs, \n",
        "                         weights = weights, \n",
        "                         bias    = bias, \n",
        "                         batch_size   = batch_size, \n",
        "                         random_state = random_state,\n",
        "                         l1_penalty = l1_penalty,\n",
        "                         l2_penalty = l2_penalty)       \n",
        "        self.learning_rate = learning_rate/2\n",
        "        self.threshold = threshold\n",
        "    \n",
        "    #Функция потерь (cross-entropy) с учетом \"штрафов\" за размер весов\n",
        "    def loss(self,yhat, y):\n",
        "        \n",
        "        l1_term = self.l1_penalty*np.sum(self.weights[1:])/y.size\n",
        "        l2_term = (self.l2_penalty/2)*np.sum(np.square(self.weights[1:]))/y.size\n",
        "        \n",
        "        return -(y*np.log(yhat  + _EPS_)+(1 - y)*np.log(1 - yhat  + _EPS_)).mean()\\\n",
        "            + l1_term+ l2_term \n",
        "    \n",
        "    #Функция активации для рассчета вероятности принадлежности точки к классу 1\n",
        "    def sigmoid(self, z):\n",
        "        return 1 / (1 + np.exp(-z)) \n",
        "    \n",
        "    #Прямое распространение\n",
        "    def forward(self, X):        \n",
        "        return self.sigmoid(self.weights.dot(X.T))\n",
        "    \n",
        "    #Определение класса на основании logit, определенного с помощью сигмоиды\n",
        "    def to_class(self,logit):\n",
        "        return (logit>=self.threshold)*1\n",
        "    \n",
        "    #Предсказание значений целевок переменной для текущего состояния модели\n",
        "    def predict(self, X):\n",
        "        yhat = self.forward(self.add_bias(X))\n",
        "        \n",
        "        if self.threshold:\n",
        "            return self.to_class(yhat)\n",
        "        else:\n",
        "            return yhat\n",
        "    #Оценка работы модели\n",
        "    def score(self, X, y):\n",
        "        yhat  = self.predict(X)\n",
        "        return sum((yhat==y)*1)/y.size\n",
        "    \n",
        "    #Вывод оценки результатов классификации: распределение верных и неверных результатов, точность, специфичность и другие метрики\n",
        "    def classification_report(self, X,y):\n",
        "        tp = 0 # true_positives\n",
        "        tn = 0 # true_negatives\n",
        "        fp = 0 # false_positives\n",
        "        fn = 0 # false_negatives\n",
        "        \n",
        "        yhat  = self.predict(X)\n",
        "        total = yhat.size\n",
        "        \n",
        "        for yhati,yi in zip(yhat,y):\n",
        "            if yi == 1 and yhati == 1:\n",
        "                tp += 1\n",
        "            elif yi == 0 and yhati == 0:\n",
        "                tn += 1\n",
        "            elif yi == 1 and yhati == 0:\n",
        "                fn += 1\n",
        "            elif yi == 0 and yhati == 1:\n",
        "                fp += 1\n",
        "\n",
        "        print('True Positives:%.0f'%(tp), end = '\\t')\n",
        "        print('False Positives:%.0f'%(fp))\n",
        "        print('False Negatives:%.0f'%(fn), end = '\\t')\n",
        "        print('True Negatives:%.0f'%(tn))\n",
        "        \n",
        "        print('Accuracy:%.4f'% ((tp + tn) / total))\n",
        "        print('Recall:%.4f'% (tp / (tp + fn)), end = '\\t')\n",
        "        print('Precision:%.4f'%(tp / (tp + fp)))\n",
        "        print('f1 measure:%.4f'%(tp / (tp + 0.5*(fp+fn))))"
      ],
      "metadata": {
        "id": "DhfuiGndeGDO"
      },
      "execution_count": null,
      "outputs": []
    },
    {
      "cell_type": "markdown",
      "source": [
        "## Формирование тестовой и тренировочной выборок"
      ],
      "metadata": {
        "id": "Y9npz0fALMEv"
      }
    },
    {
      "cell_type": "markdown",
      "source": [
        "Загрузка датасета"
      ],
      "metadata": {
        "id": "2koImGbb4zKB"
      }
    },
    {
      "cell_type": "code",
      "source": [
        "uploaded = files.upload()"
      ],
      "metadata": {
        "id": "_nIf_e0HMzZI",
        "colab": {
          "base_uri": "https://localhost:8080/",
          "height": 73
        },
        "outputId": "f0cdf894-857c-43cb-f585-869de2f21e55"
      },
      "execution_count": null,
      "outputs": [
        {
          "output_type": "display_data",
          "data": {
            "text/plain": [
              "<IPython.core.display.HTML object>"
            ],
            "text/html": [
              "\n",
              "     <input type=\"file\" id=\"files-13099654-5da5-4b84-b8b5-879da962b234\" name=\"files[]\" multiple disabled\n",
              "        style=\"border:none\" />\n",
              "     <output id=\"result-13099654-5da5-4b84-b8b5-879da962b234\">\n",
              "      Upload widget is only available when the cell has been executed in the\n",
              "      current browser session. Please rerun this cell to enable.\n",
              "      </output>\n",
              "      <script>// Copyright 2017 Google LLC\n",
              "//\n",
              "// Licensed under the Apache License, Version 2.0 (the \"License\");\n",
              "// you may not use this file except in compliance with the License.\n",
              "// You may obtain a copy of the License at\n",
              "//\n",
              "//      http://www.apache.org/licenses/LICENSE-2.0\n",
              "//\n",
              "// Unless required by applicable law or agreed to in writing, software\n",
              "// distributed under the License is distributed on an \"AS IS\" BASIS,\n",
              "// WITHOUT WARRANTIES OR CONDITIONS OF ANY KIND, either express or implied.\n",
              "// See the License for the specific language governing permissions and\n",
              "// limitations under the License.\n",
              "\n",
              "/**\n",
              " * @fileoverview Helpers for google.colab Python module.\n",
              " */\n",
              "(function(scope) {\n",
              "function span(text, styleAttributes = {}) {\n",
              "  const element = document.createElement('span');\n",
              "  element.textContent = text;\n",
              "  for (const key of Object.keys(styleAttributes)) {\n",
              "    element.style[key] = styleAttributes[key];\n",
              "  }\n",
              "  return element;\n",
              "}\n",
              "\n",
              "// Max number of bytes which will be uploaded at a time.\n",
              "const MAX_PAYLOAD_SIZE = 100 * 1024;\n",
              "\n",
              "function _uploadFiles(inputId, outputId) {\n",
              "  const steps = uploadFilesStep(inputId, outputId);\n",
              "  const outputElement = document.getElementById(outputId);\n",
              "  // Cache steps on the outputElement to make it available for the next call\n",
              "  // to uploadFilesContinue from Python.\n",
              "  outputElement.steps = steps;\n",
              "\n",
              "  return _uploadFilesContinue(outputId);\n",
              "}\n",
              "\n",
              "// This is roughly an async generator (not supported in the browser yet),\n",
              "// where there are multiple asynchronous steps and the Python side is going\n",
              "// to poll for completion of each step.\n",
              "// This uses a Promise to block the python side on completion of each step,\n",
              "// then passes the result of the previous step as the input to the next step.\n",
              "function _uploadFilesContinue(outputId) {\n",
              "  const outputElement = document.getElementById(outputId);\n",
              "  const steps = outputElement.steps;\n",
              "\n",
              "  const next = steps.next(outputElement.lastPromiseValue);\n",
              "  return Promise.resolve(next.value.promise).then((value) => {\n",
              "    // Cache the last promise value to make it available to the next\n",
              "    // step of the generator.\n",
              "    outputElement.lastPromiseValue = value;\n",
              "    return next.value.response;\n",
              "  });\n",
              "}\n",
              "\n",
              "/**\n",
              " * Generator function which is called between each async step of the upload\n",
              " * process.\n",
              " * @param {string} inputId Element ID of the input file picker element.\n",
              " * @param {string} outputId Element ID of the output display.\n",
              " * @return {!Iterable<!Object>} Iterable of next steps.\n",
              " */\n",
              "function* uploadFilesStep(inputId, outputId) {\n",
              "  const inputElement = document.getElementById(inputId);\n",
              "  inputElement.disabled = false;\n",
              "\n",
              "  const outputElement = document.getElementById(outputId);\n",
              "  outputElement.innerHTML = '';\n",
              "\n",
              "  const pickedPromise = new Promise((resolve) => {\n",
              "    inputElement.addEventListener('change', (e) => {\n",
              "      resolve(e.target.files);\n",
              "    });\n",
              "  });\n",
              "\n",
              "  const cancel = document.createElement('button');\n",
              "  inputElement.parentElement.appendChild(cancel);\n",
              "  cancel.textContent = 'Cancel upload';\n",
              "  const cancelPromise = new Promise((resolve) => {\n",
              "    cancel.onclick = () => {\n",
              "      resolve(null);\n",
              "    };\n",
              "  });\n",
              "\n",
              "  // Wait for the user to pick the files.\n",
              "  const files = yield {\n",
              "    promise: Promise.race([pickedPromise, cancelPromise]),\n",
              "    response: {\n",
              "      action: 'starting',\n",
              "    }\n",
              "  };\n",
              "\n",
              "  cancel.remove();\n",
              "\n",
              "  // Disable the input element since further picks are not allowed.\n",
              "  inputElement.disabled = true;\n",
              "\n",
              "  if (!files) {\n",
              "    return {\n",
              "      response: {\n",
              "        action: 'complete',\n",
              "      }\n",
              "    };\n",
              "  }\n",
              "\n",
              "  for (const file of files) {\n",
              "    const li = document.createElement('li');\n",
              "    li.append(span(file.name, {fontWeight: 'bold'}));\n",
              "    li.append(span(\n",
              "        `(${file.type || 'n/a'}) - ${file.size} bytes, ` +\n",
              "        `last modified: ${\n",
              "            file.lastModifiedDate ? file.lastModifiedDate.toLocaleDateString() :\n",
              "                                    'n/a'} - `));\n",
              "    const percent = span('0% done');\n",
              "    li.appendChild(percent);\n",
              "\n",
              "    outputElement.appendChild(li);\n",
              "\n",
              "    const fileDataPromise = new Promise((resolve) => {\n",
              "      const reader = new FileReader();\n",
              "      reader.onload = (e) => {\n",
              "        resolve(e.target.result);\n",
              "      };\n",
              "      reader.readAsArrayBuffer(file);\n",
              "    });\n",
              "    // Wait for the data to be ready.\n",
              "    let fileData = yield {\n",
              "      promise: fileDataPromise,\n",
              "      response: {\n",
              "        action: 'continue',\n",
              "      }\n",
              "    };\n",
              "\n",
              "    // Use a chunked sending to avoid message size limits. See b/62115660.\n",
              "    let position = 0;\n",
              "    do {\n",
              "      const length = Math.min(fileData.byteLength - position, MAX_PAYLOAD_SIZE);\n",
              "      const chunk = new Uint8Array(fileData, position, length);\n",
              "      position += length;\n",
              "\n",
              "      const base64 = btoa(String.fromCharCode.apply(null, chunk));\n",
              "      yield {\n",
              "        response: {\n",
              "          action: 'append',\n",
              "          file: file.name,\n",
              "          data: base64,\n",
              "        },\n",
              "      };\n",
              "\n",
              "      let percentDone = fileData.byteLength === 0 ?\n",
              "          100 :\n",
              "          Math.round((position / fileData.byteLength) * 100);\n",
              "      percent.textContent = `${percentDone}% done`;\n",
              "\n",
              "    } while (position < fileData.byteLength);\n",
              "  }\n",
              "\n",
              "  // All done.\n",
              "  yield {\n",
              "    response: {\n",
              "      action: 'complete',\n",
              "    }\n",
              "  };\n",
              "}\n",
              "\n",
              "scope.google = scope.google || {};\n",
              "scope.google.colab = scope.google.colab || {};\n",
              "scope.google.colab._files = {\n",
              "  _uploadFiles,\n",
              "  _uploadFilesContinue,\n",
              "};\n",
              "})(self);\n",
              "</script> "
            ]
          },
          "metadata": {}
        },
        {
          "output_type": "stream",
          "name": "stdout",
          "text": [
            "Saving cars_moldova_processed.csv to cars_moldova_processed.csv\n"
          ]
        }
      ]
    },
    {
      "cell_type": "code",
      "source": [
        "df = pd.read_csv('/content/cars_moldova_processed.csv')"
      ],
      "metadata": {
        "id": "sC0yCrvaLOge"
      },
      "execution_count": null,
      "outputs": []
    },
    {
      "cell_type": "markdown",
      "source": [
        "Списки столбцов с числовыми и категориальными данными"
      ],
      "metadata": {
        "id": "JsRfw-ItPFVt"
      }
    },
    {
      "cell_type": "code",
      "source": [
        "cat_columns = ['Make', 'Model', 'Style', 'Fuel_type', 'Transmission', 'km_category', 'engine_category']\n",
        "num_columns = ['Year', 'Distance', 'Engine_capacity(cm3)', 'Price(euro)', 'Age', 'km_year']"
      ],
      "metadata": {
        "id": "4WmTGWDgPOue"
      },
      "execution_count": null,
      "outputs": []
    },
    {
      "cell_type": "markdown",
      "source": [
        "Заменим категориальные значения в столбце целевой переменной на числовые"
      ],
      "metadata": {
        "id": "or7xOh_Oiksp"
      }
    },
    {
      "cell_type": "code",
      "source": [
        "df['Transmission'] = df['Transmission'].replace('Automatic', 1)\n",
        "df['Transmission'] = df['Transmission'].replace('Manual', 0)"
      ],
      "metadata": {
        "id": "rVaVtCvJiz8_"
      },
      "execution_count": null,
      "outputs": []
    },
    {
      "cell_type": "code",
      "source": [
        "df.head(7)"
      ],
      "metadata": {
        "colab": {
          "base_uri": "https://localhost:8080/",
          "height": 350
        },
        "id": "phNBVWOoRh3M",
        "outputId": "d42c8e52-eb2d-425d-fba2-6cfc83c66c4d"
      },
      "execution_count": null,
      "outputs": [
        {
          "output_type": "execute_result",
          "data": {
            "text/plain": [
              "         Make         Model  Year      Style  Distance  Engine_capacity(cm3)  \\\n",
              "0      Toyota         Prius  2011  Hatchback  195000.0                1800.0   \n",
              "1     Renault  Grand Scenic  2014  Universal  135000.0                1500.0   \n",
              "2     Renault        Laguna  2012  Universal  110000.0                1500.0   \n",
              "3        Opel         Astra  2006  Universal  200000.0                1600.0   \n",
              "4    Mercedes          Vito  2000   Microvan  300000.0                2200.0   \n",
              "5  Volkswagen        Passat  2010  Universal  290000.0                1390.0   \n",
              "6  Volkswagen       Touareg  2010        SUV  220000.0                2400.0   \n",
              "\n",
              "      Fuel_type  Transmission  Price(euro)  Age       km_year km_category  \\\n",
              "0        Hybrid             1       7750.0   11  17727.272727      Middle   \n",
              "1        Diesel             0       8550.0    8  16875.000000      Middle   \n",
              "2        Diesel             0       6550.0   10  11000.000000      Middle   \n",
              "3  Metan/Propan             0       4100.0   16  12500.000000      Middle   \n",
              "4        Diesel             0       3490.0   22  13636.363636      Middle   \n",
              "5        Petrol             0       5600.0   12  24166.666667         Big   \n",
              "6        Diesel             1      17000.0   12  18333.333333      Middle   \n",
              "\n",
              "   Engine_capacity(litre) engine_category  \n",
              "0                    1.80           Small  \n",
              "1                    1.50           Small  \n",
              "2                    1.50           Small  \n",
              "3                    1.60           Small  \n",
              "4                    2.20          Medium  \n",
              "5                    1.39           Small  \n",
              "6                    2.40          Medium  "
            ],
            "text/html": [
              "\n",
              "  <div id=\"df-58c9d3d0-afc7-4811-8590-9aa9300e2eab\">\n",
              "    <div class=\"colab-df-container\">\n",
              "      <div>\n",
              "<style scoped>\n",
              "    .dataframe tbody tr th:only-of-type {\n",
              "        vertical-align: middle;\n",
              "    }\n",
              "\n",
              "    .dataframe tbody tr th {\n",
              "        vertical-align: top;\n",
              "    }\n",
              "\n",
              "    .dataframe thead th {\n",
              "        text-align: right;\n",
              "    }\n",
              "</style>\n",
              "<table border=\"1\" class=\"dataframe\">\n",
              "  <thead>\n",
              "    <tr style=\"text-align: right;\">\n",
              "      <th></th>\n",
              "      <th>Make</th>\n",
              "      <th>Model</th>\n",
              "      <th>Year</th>\n",
              "      <th>Style</th>\n",
              "      <th>Distance</th>\n",
              "      <th>Engine_capacity(cm3)</th>\n",
              "      <th>Fuel_type</th>\n",
              "      <th>Transmission</th>\n",
              "      <th>Price(euro)</th>\n",
              "      <th>Age</th>\n",
              "      <th>km_year</th>\n",
              "      <th>km_category</th>\n",
              "      <th>Engine_capacity(litre)</th>\n",
              "      <th>engine_category</th>\n",
              "    </tr>\n",
              "  </thead>\n",
              "  <tbody>\n",
              "    <tr>\n",
              "      <th>0</th>\n",
              "      <td>Toyota</td>\n",
              "      <td>Prius</td>\n",
              "      <td>2011</td>\n",
              "      <td>Hatchback</td>\n",
              "      <td>195000.0</td>\n",
              "      <td>1800.0</td>\n",
              "      <td>Hybrid</td>\n",
              "      <td>1</td>\n",
              "      <td>7750.0</td>\n",
              "      <td>11</td>\n",
              "      <td>17727.272727</td>\n",
              "      <td>Middle</td>\n",
              "      <td>1.80</td>\n",
              "      <td>Small</td>\n",
              "    </tr>\n",
              "    <tr>\n",
              "      <th>1</th>\n",
              "      <td>Renault</td>\n",
              "      <td>Grand Scenic</td>\n",
              "      <td>2014</td>\n",
              "      <td>Universal</td>\n",
              "      <td>135000.0</td>\n",
              "      <td>1500.0</td>\n",
              "      <td>Diesel</td>\n",
              "      <td>0</td>\n",
              "      <td>8550.0</td>\n",
              "      <td>8</td>\n",
              "      <td>16875.000000</td>\n",
              "      <td>Middle</td>\n",
              "      <td>1.50</td>\n",
              "      <td>Small</td>\n",
              "    </tr>\n",
              "    <tr>\n",
              "      <th>2</th>\n",
              "      <td>Renault</td>\n",
              "      <td>Laguna</td>\n",
              "      <td>2012</td>\n",
              "      <td>Universal</td>\n",
              "      <td>110000.0</td>\n",
              "      <td>1500.0</td>\n",
              "      <td>Diesel</td>\n",
              "      <td>0</td>\n",
              "      <td>6550.0</td>\n",
              "      <td>10</td>\n",
              "      <td>11000.000000</td>\n",
              "      <td>Middle</td>\n",
              "      <td>1.50</td>\n",
              "      <td>Small</td>\n",
              "    </tr>\n",
              "    <tr>\n",
              "      <th>3</th>\n",
              "      <td>Opel</td>\n",
              "      <td>Astra</td>\n",
              "      <td>2006</td>\n",
              "      <td>Universal</td>\n",
              "      <td>200000.0</td>\n",
              "      <td>1600.0</td>\n",
              "      <td>Metan/Propan</td>\n",
              "      <td>0</td>\n",
              "      <td>4100.0</td>\n",
              "      <td>16</td>\n",
              "      <td>12500.000000</td>\n",
              "      <td>Middle</td>\n",
              "      <td>1.60</td>\n",
              "      <td>Small</td>\n",
              "    </tr>\n",
              "    <tr>\n",
              "      <th>4</th>\n",
              "      <td>Mercedes</td>\n",
              "      <td>Vito</td>\n",
              "      <td>2000</td>\n",
              "      <td>Microvan</td>\n",
              "      <td>300000.0</td>\n",
              "      <td>2200.0</td>\n",
              "      <td>Diesel</td>\n",
              "      <td>0</td>\n",
              "      <td>3490.0</td>\n",
              "      <td>22</td>\n",
              "      <td>13636.363636</td>\n",
              "      <td>Middle</td>\n",
              "      <td>2.20</td>\n",
              "      <td>Medium</td>\n",
              "    </tr>\n",
              "    <tr>\n",
              "      <th>5</th>\n",
              "      <td>Volkswagen</td>\n",
              "      <td>Passat</td>\n",
              "      <td>2010</td>\n",
              "      <td>Universal</td>\n",
              "      <td>290000.0</td>\n",
              "      <td>1390.0</td>\n",
              "      <td>Petrol</td>\n",
              "      <td>0</td>\n",
              "      <td>5600.0</td>\n",
              "      <td>12</td>\n",
              "      <td>24166.666667</td>\n",
              "      <td>Big</td>\n",
              "      <td>1.39</td>\n",
              "      <td>Small</td>\n",
              "    </tr>\n",
              "    <tr>\n",
              "      <th>6</th>\n",
              "      <td>Volkswagen</td>\n",
              "      <td>Touareg</td>\n",
              "      <td>2010</td>\n",
              "      <td>SUV</td>\n",
              "      <td>220000.0</td>\n",
              "      <td>2400.0</td>\n",
              "      <td>Diesel</td>\n",
              "      <td>1</td>\n",
              "      <td>17000.0</td>\n",
              "      <td>12</td>\n",
              "      <td>18333.333333</td>\n",
              "      <td>Middle</td>\n",
              "      <td>2.40</td>\n",
              "      <td>Medium</td>\n",
              "    </tr>\n",
              "  </tbody>\n",
              "</table>\n",
              "</div>\n",
              "      <button class=\"colab-df-convert\" onclick=\"convertToInteractive('df-58c9d3d0-afc7-4811-8590-9aa9300e2eab')\"\n",
              "              title=\"Convert this dataframe to an interactive table.\"\n",
              "              style=\"display:none;\">\n",
              "        \n",
              "  <svg xmlns=\"http://www.w3.org/2000/svg\" height=\"24px\"viewBox=\"0 0 24 24\"\n",
              "       width=\"24px\">\n",
              "    <path d=\"M0 0h24v24H0V0z\" fill=\"none\"/>\n",
              "    <path d=\"M18.56 5.44l.94 2.06.94-2.06 2.06-.94-2.06-.94-.94-2.06-.94 2.06-2.06.94zm-11 1L8.5 8.5l.94-2.06 2.06-.94-2.06-.94L8.5 2.5l-.94 2.06-2.06.94zm10 10l.94 2.06.94-2.06 2.06-.94-2.06-.94-.94-2.06-.94 2.06-2.06.94z\"/><path d=\"M17.41 7.96l-1.37-1.37c-.4-.4-.92-.59-1.43-.59-.52 0-1.04.2-1.43.59L10.3 9.45l-7.72 7.72c-.78.78-.78 2.05 0 2.83L4 21.41c.39.39.9.59 1.41.59.51 0 1.02-.2 1.41-.59l7.78-7.78 2.81-2.81c.8-.78.8-2.07 0-2.86zM5.41 20L4 18.59l7.72-7.72 1.47 1.35L5.41 20z\"/>\n",
              "  </svg>\n",
              "      </button>\n",
              "      \n",
              "  <style>\n",
              "    .colab-df-container {\n",
              "      display:flex;\n",
              "      flex-wrap:wrap;\n",
              "      gap: 12px;\n",
              "    }\n",
              "\n",
              "    .colab-df-convert {\n",
              "      background-color: #E8F0FE;\n",
              "      border: none;\n",
              "      border-radius: 50%;\n",
              "      cursor: pointer;\n",
              "      display: none;\n",
              "      fill: #1967D2;\n",
              "      height: 32px;\n",
              "      padding: 0 0 0 0;\n",
              "      width: 32px;\n",
              "    }\n",
              "\n",
              "    .colab-df-convert:hover {\n",
              "      background-color: #E2EBFA;\n",
              "      box-shadow: 0px 1px 2px rgba(60, 64, 67, 0.3), 0px 1px 3px 1px rgba(60, 64, 67, 0.15);\n",
              "      fill: #174EA6;\n",
              "    }\n",
              "\n",
              "    [theme=dark] .colab-df-convert {\n",
              "      background-color: #3B4455;\n",
              "      fill: #D2E3FC;\n",
              "    }\n",
              "\n",
              "    [theme=dark] .colab-df-convert:hover {\n",
              "      background-color: #434B5C;\n",
              "      box-shadow: 0px 1px 3px 1px rgba(0, 0, 0, 0.15);\n",
              "      filter: drop-shadow(0px 1px 2px rgba(0, 0, 0, 0.3));\n",
              "      fill: #FFFFFF;\n",
              "    }\n",
              "  </style>\n",
              "\n",
              "      <script>\n",
              "        const buttonEl =\n",
              "          document.querySelector('#df-58c9d3d0-afc7-4811-8590-9aa9300e2eab button.colab-df-convert');\n",
              "        buttonEl.style.display =\n",
              "          google.colab.kernel.accessAllowed ? 'block' : 'none';\n",
              "\n",
              "        async function convertToInteractive(key) {\n",
              "          const element = document.querySelector('#df-58c9d3d0-afc7-4811-8590-9aa9300e2eab');\n",
              "          const dataTable =\n",
              "            await google.colab.kernel.invokeFunction('convertToInteractive',\n",
              "                                                     [key], {});\n",
              "          if (!dataTable) return;\n",
              "\n",
              "          const docLinkHtml = 'Like what you see? Visit the ' +\n",
              "            '<a target=\"_blank\" href=https://colab.research.google.com/notebooks/data_table.ipynb>data table notebook</a>'\n",
              "            + ' to learn more about interactive tables.';\n",
              "          element.innerHTML = '';\n",
              "          dataTable['output_type'] = 'display_data';\n",
              "          await google.colab.output.renderOutput(dataTable, element);\n",
              "          const docLink = document.createElement('div');\n",
              "          docLink.innerHTML = docLinkHtml;\n",
              "          element.appendChild(docLink);\n",
              "        }\n",
              "      </script>\n",
              "    </div>\n",
              "  </div>\n",
              "  "
            ]
          },
          "metadata": {},
          "execution_count": 29
        }
      ]
    },
    {
      "cell_type": "markdown",
      "source": [
        "Разбиваем на тренировочную и тестовые выборки"
      ],
      "metadata": {
        "id": "tg17NN8fOy2Q"
      }
    },
    {
      "cell_type": "code",
      "source": [
        "X = df[num_columns].values  \n",
        "y = df[\"Transmission\"].values # Целевая переменная -- тип трансмиссии\n",
        "features_names = df[num_columns].columns\n",
        "\n",
        "X_train, X_test, y_train, y_test = train_test_split(X, y, test_size=0.3, random_state=42)\n",
        "\n",
        "\n",
        "scaler  = MinMaxScaler()\n",
        "X_train = scaler.fit_transform(X_train)\n",
        "X_test  = scaler.transform(X_test) \n",
        "pd.DataFrame(X_train).tail()"
      ],
      "metadata": {
        "id": "tAnqTqgZLeeL",
        "colab": {
          "base_uri": "https://localhost:8080/",
          "height": 206
        },
        "outputId": "042fadb2-7014-4933-b2c8-fe1afa862136"
      },
      "execution_count": null,
      "outputs": [
        {
          "output_type": "execute_result",
          "data": {
            "text/plain": [
              "          0         1         2         3     4         5\n",
              "22549  0.40  0.011012  0.291667  0.006513  0.60  0.005179\n",
              "22550  0.74  0.208921  0.270833  0.061112  0.26  0.297166\n",
              "22551  0.84  0.155127  0.270833  0.078146  0.16  0.343601\n",
              "22552  0.84  0.219922  0.229167  0.066132  0.16  0.487865\n",
              "22553  0.94  0.049905  0.375000  0.251503  0.06  0.248497"
            ],
            "text/html": [
              "\n",
              "  <div id=\"df-2f29e60a-30d0-4c6b-b5c9-887624e596c8\">\n",
              "    <div class=\"colab-df-container\">\n",
              "      <div>\n",
              "<style scoped>\n",
              "    .dataframe tbody tr th:only-of-type {\n",
              "        vertical-align: middle;\n",
              "    }\n",
              "\n",
              "    .dataframe tbody tr th {\n",
              "        vertical-align: top;\n",
              "    }\n",
              "\n",
              "    .dataframe thead th {\n",
              "        text-align: right;\n",
              "    }\n",
              "</style>\n",
              "<table border=\"1\" class=\"dataframe\">\n",
              "  <thead>\n",
              "    <tr style=\"text-align: right;\">\n",
              "      <th></th>\n",
              "      <th>0</th>\n",
              "      <th>1</th>\n",
              "      <th>2</th>\n",
              "      <th>3</th>\n",
              "      <th>4</th>\n",
              "      <th>5</th>\n",
              "    </tr>\n",
              "  </thead>\n",
              "  <tbody>\n",
              "    <tr>\n",
              "      <th>22549</th>\n",
              "      <td>0.40</td>\n",
              "      <td>0.011012</td>\n",
              "      <td>0.291667</td>\n",
              "      <td>0.006513</td>\n",
              "      <td>0.60</td>\n",
              "      <td>0.005179</td>\n",
              "    </tr>\n",
              "    <tr>\n",
              "      <th>22550</th>\n",
              "      <td>0.74</td>\n",
              "      <td>0.208921</td>\n",
              "      <td>0.270833</td>\n",
              "      <td>0.061112</td>\n",
              "      <td>0.26</td>\n",
              "      <td>0.297166</td>\n",
              "    </tr>\n",
              "    <tr>\n",
              "      <th>22551</th>\n",
              "      <td>0.84</td>\n",
              "      <td>0.155127</td>\n",
              "      <td>0.270833</td>\n",
              "      <td>0.078146</td>\n",
              "      <td>0.16</td>\n",
              "      <td>0.343601</td>\n",
              "    </tr>\n",
              "    <tr>\n",
              "      <th>22552</th>\n",
              "      <td>0.84</td>\n",
              "      <td>0.219922</td>\n",
              "      <td>0.229167</td>\n",
              "      <td>0.066132</td>\n",
              "      <td>0.16</td>\n",
              "      <td>0.487865</td>\n",
              "    </tr>\n",
              "    <tr>\n",
              "      <th>22553</th>\n",
              "      <td>0.94</td>\n",
              "      <td>0.049905</td>\n",
              "      <td>0.375000</td>\n",
              "      <td>0.251503</td>\n",
              "      <td>0.06</td>\n",
              "      <td>0.248497</td>\n",
              "    </tr>\n",
              "  </tbody>\n",
              "</table>\n",
              "</div>\n",
              "      <button class=\"colab-df-convert\" onclick=\"convertToInteractive('df-2f29e60a-30d0-4c6b-b5c9-887624e596c8')\"\n",
              "              title=\"Convert this dataframe to an interactive table.\"\n",
              "              style=\"display:none;\">\n",
              "        \n",
              "  <svg xmlns=\"http://www.w3.org/2000/svg\" height=\"24px\"viewBox=\"0 0 24 24\"\n",
              "       width=\"24px\">\n",
              "    <path d=\"M0 0h24v24H0V0z\" fill=\"none\"/>\n",
              "    <path d=\"M18.56 5.44l.94 2.06.94-2.06 2.06-.94-2.06-.94-.94-2.06-.94 2.06-2.06.94zm-11 1L8.5 8.5l.94-2.06 2.06-.94-2.06-.94L8.5 2.5l-.94 2.06-2.06.94zm10 10l.94 2.06.94-2.06 2.06-.94-2.06-.94-.94-2.06-.94 2.06-2.06.94z\"/><path d=\"M17.41 7.96l-1.37-1.37c-.4-.4-.92-.59-1.43-.59-.52 0-1.04.2-1.43.59L10.3 9.45l-7.72 7.72c-.78.78-.78 2.05 0 2.83L4 21.41c.39.39.9.59 1.41.59.51 0 1.02-.2 1.41-.59l7.78-7.78 2.81-2.81c.8-.78.8-2.07 0-2.86zM5.41 20L4 18.59l7.72-7.72 1.47 1.35L5.41 20z\"/>\n",
              "  </svg>\n",
              "      </button>\n",
              "      \n",
              "  <style>\n",
              "    .colab-df-container {\n",
              "      display:flex;\n",
              "      flex-wrap:wrap;\n",
              "      gap: 12px;\n",
              "    }\n",
              "\n",
              "    .colab-df-convert {\n",
              "      background-color: #E8F0FE;\n",
              "      border: none;\n",
              "      border-radius: 50%;\n",
              "      cursor: pointer;\n",
              "      display: none;\n",
              "      fill: #1967D2;\n",
              "      height: 32px;\n",
              "      padding: 0 0 0 0;\n",
              "      width: 32px;\n",
              "    }\n",
              "\n",
              "    .colab-df-convert:hover {\n",
              "      background-color: #E2EBFA;\n",
              "      box-shadow: 0px 1px 2px rgba(60, 64, 67, 0.3), 0px 1px 3px 1px rgba(60, 64, 67, 0.15);\n",
              "      fill: #174EA6;\n",
              "    }\n",
              "\n",
              "    [theme=dark] .colab-df-convert {\n",
              "      background-color: #3B4455;\n",
              "      fill: #D2E3FC;\n",
              "    }\n",
              "\n",
              "    [theme=dark] .colab-df-convert:hover {\n",
              "      background-color: #434B5C;\n",
              "      box-shadow: 0px 1px 3px 1px rgba(0, 0, 0, 0.15);\n",
              "      filter: drop-shadow(0px 1px 2px rgba(0, 0, 0, 0.3));\n",
              "      fill: #FFFFFF;\n",
              "    }\n",
              "  </style>\n",
              "\n",
              "      <script>\n",
              "        const buttonEl =\n",
              "          document.querySelector('#df-2f29e60a-30d0-4c6b-b5c9-887624e596c8 button.colab-df-convert');\n",
              "        buttonEl.style.display =\n",
              "          google.colab.kernel.accessAllowed ? 'block' : 'none';\n",
              "\n",
              "        async function convertToInteractive(key) {\n",
              "          const element = document.querySelector('#df-2f29e60a-30d0-4c6b-b5c9-887624e596c8');\n",
              "          const dataTable =\n",
              "            await google.colab.kernel.invokeFunction('convertToInteractive',\n",
              "                                                     [key], {});\n",
              "          if (!dataTable) return;\n",
              "\n",
              "          const docLinkHtml = 'Like what you see? Visit the ' +\n",
              "            '<a target=\"_blank\" href=https://colab.research.google.com/notebooks/data_table.ipynb>data table notebook</a>'\n",
              "            + ' to learn more about interactive tables.';\n",
              "          element.innerHTML = '';\n",
              "          dataTable['output_type'] = 'display_data';\n",
              "          await google.colab.output.renderOutput(dataTable, element);\n",
              "          const docLink = document.createElement('div');\n",
              "          docLink.innerHTML = docLinkHtml;\n",
              "          element.appendChild(docLink);\n",
              "        }\n",
              "      </script>\n",
              "    </div>\n",
              "  </div>\n",
              "  "
            ]
          },
          "metadata": {},
          "execution_count": 34
        }
      ]
    },
    {
      "cell_type": "markdown",
      "source": [
        "## Реализация логистической регрессии с эластичной регуляризацией"
      ],
      "metadata": {
        "id": "q-6rc3DcbnFb"
      }
    },
    {
      "cell_type": "code",
      "source": [
        "regr = LogisticRegression(learning_rate=0.8,epochs=1500,batch_size=5000, l1_penalty = 0.008, l2_penalty = 0.00005)\n",
        "\n",
        "regr.fit(X_train, y_train)\n",
        "\n",
        "regr.plot_cost()\n",
        "\n",
        "print( 'train Accuracy: %.4f; test Accuracy: %.4f' % (regr.score(X_train, y_train), regr.score(X_test, y_test)))\n",
        "\n",
        "regr.classification_report(X_test, y_test)"
      ],
      "metadata": {
        "colab": {
          "base_uri": "https://localhost:8080/",
          "height": 394
        },
        "id": "2cfucc-ki4Zj",
        "outputId": "686e5a20-72f5-4708-f6b7-81762521c8d1"
      },
      "execution_count": null,
      "outputs": [
        {
          "output_type": "display_data",
          "data": {
            "text/plain": [
              "<Figure size 576x288 with 1 Axes>"
            ],
            "image/png": "[encoded data removed]"
          },
          "metadata": {}
        },
        {
          "output_type": "stream",
          "name": "stdout",
          "text": [
            "train Accuracy: 0.8040; test Accuracy: 0.8051\n",
            "True Positives:3252\tFalse Positives:731\n",
            "False Negatives:1153\tTrue Negatives:4530\n",
            "Accuracy:0.8051\n",
            "Recall:0.7383\tPrecision:0.8165\n",
            "f1 measure:0.7754\n"
          ]
        }
      ]
    },
    {
      "cell_type": "markdown",
      "source": [
        "## Оценка весов"
      ],
      "metadata": {
        "id": "dLNEXEJDniYy"
      }
    },
    {
      "cell_type": "code",
      "source": [
        "w, b = regr.get_w_and_b()\n",
        "plt.bar(x = range(w.size),height=w)\n",
        "plt.xticks(range(w.size),features_names, rotation = 45 );"
      ],
      "metadata": {
        "colab": {
          "base_uri": "https://localhost:8080/",
          "height": 352
        },
        "id": "YDtwWqxvnoOq",
        "outputId": "c9d3309e-7471-431b-a40c-1068b54f9546"
      },
      "execution_count": null,
      "outputs": [
        {
          "output_type": "display_data",
          "data": {
            "text/plain": [
              "<Figure size 432x288 with 1 Axes>"
            ],
            "image/png": "[encoded data removed]"
          },
          "metadata": {}
        }
      ]
    },
    {
      "cell_type": "markdown",
      "source": [
        "Как мы видим по полученной гистограмме, наиболее значимыми параметрами являются цена и объем двигателя, за которыми следует возраст автомобила. Остальные признаки имеют минимальные веса."
      ],
      "metadata": {
        "id": "J42csS3kn36A"
      }
    },
    {
      "cell_type": "markdown",
      "source": [
        "## Работа с данными с различными типами предварительной обработки"
      ],
      "metadata": {
        "id": "5Kau6civ5Ggx"
      }
    },
    {
      "cell_type": "markdown",
      "source": [
        "Для оценки результатов с различными типами предварительной обработки загрузим файлы, созданные в домашней работе 1"
      ],
      "metadata": {
        "id": "5yRkEYjEkuFh"
      }
    },
    {
      "cell_type": "markdown",
      "source": [
        "### cars_power - степенное преобразование."
      ],
      "metadata": {
        "id": "e28FA73smKK3"
      }
    },
    {
      "cell_type": "code",
      "source": [
        "up_power = files.upload()"
      ],
      "metadata": {
        "colab": {
          "base_uri": "https://localhost:8080/",
          "height": 73
        },
        "id": "RMmN3ev7msSY",
        "outputId": "e0e65f9f-f7c8-412f-c2b4-e2d6b62b6565"
      },
      "execution_count": null,
      "outputs": [
        {
          "output_type": "display_data",
          "data": {
            "text/plain": [
              "<IPython.core.display.HTML object>"
            ],
            "text/html": [
              "\n",
              "     <input type=\"file\" id=\"files-631aabc2-081f-406a-814a-6d185d6ab79f\" name=\"files[]\" multiple disabled\n",
              "        style=\"border:none\" />\n",
              "     <output id=\"result-631aabc2-081f-406a-814a-6d185d6ab79f\">\n",
              "      Upload widget is only available when the cell has been executed in the\n",
              "      current browser session. Please rerun this cell to enable.\n",
              "      </output>\n",
              "      <script>// Copyright 2017 Google LLC\n",
              "//\n",
              "// Licensed under the Apache License, Version 2.0 (the \"License\");\n",
              "// you may not use this file except in compliance with the License.\n",
              "// You may obtain a copy of the License at\n",
              "//\n",
              "//      http://www.apache.org/licenses/LICENSE-2.0\n",
              "//\n",
              "// Unless required by applicable law or agreed to in writing, software\n",
              "// distributed under the License is distributed on an \"AS IS\" BASIS,\n",
              "// WITHOUT WARRANTIES OR CONDITIONS OF ANY KIND, either express or implied.\n",
              "// See the License for the specific language governing permissions and\n",
              "// limitations under the License.\n",
              "\n",
              "/**\n",
              " * @fileoverview Helpers for google.colab Python module.\n",
              " */\n",
              "(function(scope) {\n",
              "function span(text, styleAttributes = {}) {\n",
              "  const element = document.createElement('span');\n",
              "  element.textContent = text;\n",
              "  for (const key of Object.keys(styleAttributes)) {\n",
              "    element.style[key] = styleAttributes[key];\n",
              "  }\n",
              "  return element;\n",
              "}\n",
              "\n",
              "// Max number of bytes which will be uploaded at a time.\n",
              "const MAX_PAYLOAD_SIZE = 100 * 1024;\n",
              "\n",
              "function _uploadFiles(inputId, outputId) {\n",
              "  const steps = uploadFilesStep(inputId, outputId);\n",
              "  const outputElement = document.getElementById(outputId);\n",
              "  // Cache steps on the outputElement to make it available for the next call\n",
              "  // to uploadFilesContinue from Python.\n",
              "  outputElement.steps = steps;\n",
              "\n",
              "  return _uploadFilesContinue(outputId);\n",
              "}\n",
              "\n",
              "// This is roughly an async generator (not supported in the browser yet),\n",
              "// where there are multiple asynchronous steps and the Python side is going\n",
              "// to poll for completion of each step.\n",
              "// This uses a Promise to block the python side on completion of each step,\n",
              "// then passes the result of the previous step as the input to the next step.\n",
              "function _uploadFilesContinue(outputId) {\n",
              "  const outputElement = document.getElementById(outputId);\n",
              "  const steps = outputElement.steps;\n",
              "\n",
              "  const next = steps.next(outputElement.lastPromiseValue);\n",
              "  return Promise.resolve(next.value.promise).then((value) => {\n",
              "    // Cache the last promise value to make it available to the next\n",
              "    // step of the generator.\n",
              "    outputElement.lastPromiseValue = value;\n",
              "    return next.value.response;\n",
              "  });\n",
              "}\n",
              "\n",
              "/**\n",
              " * Generator function which is called between each async step of the upload\n",
              " * process.\n",
              " * @param {string} inputId Element ID of the input file picker element.\n",
              " * @param {string} outputId Element ID of the output display.\n",
              " * @return {!Iterable<!Object>} Iterable of next steps.\n",
              " */\n",
              "function* uploadFilesStep(inputId, outputId) {\n",
              "  const inputElement = document.getElementById(inputId);\n",
              "  inputElement.disabled = false;\n",
              "\n",
              "  const outputElement = document.getElementById(outputId);\n",
              "  outputElement.innerHTML = '';\n",
              "\n",
              "  const pickedPromise = new Promise((resolve) => {\n",
              "    inputElement.addEventListener('change', (e) => {\n",
              "      resolve(e.target.files);\n",
              "    });\n",
              "  });\n",
              "\n",
              "  const cancel = document.createElement('button');\n",
              "  inputElement.parentElement.appendChild(cancel);\n",
              "  cancel.textContent = 'Cancel upload';\n",
              "  const cancelPromise = new Promise((resolve) => {\n",
              "    cancel.onclick = () => {\n",
              "      resolve(null);\n",
              "    };\n",
              "  });\n",
              "\n",
              "  // Wait for the user to pick the files.\n",
              "  const files = yield {\n",
              "    promise: Promise.race([pickedPromise, cancelPromise]),\n",
              "    response: {\n",
              "      action: 'starting',\n",
              "    }\n",
              "  };\n",
              "\n",
              "  cancel.remove();\n",
              "\n",
              "  // Disable the input element since further picks are not allowed.\n",
              "  inputElement.disabled = true;\n",
              "\n",
              "  if (!files) {\n",
              "    return {\n",
              "      response: {\n",
              "        action: 'complete',\n",
              "      }\n",
              "    };\n",
              "  }\n",
              "\n",
              "  for (const file of files) {\n",
              "    const li = document.createElement('li');\n",
              "    li.append(span(file.name, {fontWeight: 'bold'}));\n",
              "    li.append(span(\n",
              "        `(${file.type || 'n/a'}) - ${file.size} bytes, ` +\n",
              "        `last modified: ${\n",
              "            file.lastModifiedDate ? file.lastModifiedDate.toLocaleDateString() :\n",
              "                                    'n/a'} - `));\n",
              "    const percent = span('0% done');\n",
              "    li.appendChild(percent);\n",
              "\n",
              "    outputElement.appendChild(li);\n",
              "\n",
              "    const fileDataPromise = new Promise((resolve) => {\n",
              "      const reader = new FileReader();\n",
              "      reader.onload = (e) => {\n",
              "        resolve(e.target.result);\n",
              "      };\n",
              "      reader.readAsArrayBuffer(file);\n",
              "    });\n",
              "    // Wait for the data to be ready.\n",
              "    let fileData = yield {\n",
              "      promise: fileDataPromise,\n",
              "      response: {\n",
              "        action: 'continue',\n",
              "      }\n",
              "    };\n",
              "\n",
              "    // Use a chunked sending to avoid message size limits. See b/62115660.\n",
              "    let position = 0;\n",
              "    do {\n",
              "      const length = Math.min(fileData.byteLength - position, MAX_PAYLOAD_SIZE);\n",
              "      const chunk = new Uint8Array(fileData, position, length);\n",
              "      position += length;\n",
              "\n",
              "      const base64 = btoa(String.fromCharCode.apply(null, chunk));\n",
              "      yield {\n",
              "        response: {\n",
              "          action: 'append',\n",
              "          file: file.name,\n",
              "          data: base64,\n",
              "        },\n",
              "      };\n",
              "\n",
              "      let percentDone = fileData.byteLength === 0 ?\n",
              "          100 :\n",
              "          Math.round((position / fileData.byteLength) * 100);\n",
              "      percent.textContent = `${percentDone}% done`;\n",
              "\n",
              "    } while (position < fileData.byteLength);\n",
              "  }\n",
              "\n",
              "  // All done.\n",
              "  yield {\n",
              "    response: {\n",
              "      action: 'complete',\n",
              "    }\n",
              "  };\n",
              "}\n",
              "\n",
              "scope.google = scope.google || {};\n",
              "scope.google.colab = scope.google.colab || {};\n",
              "scope.google.colab._files = {\n",
              "  _uploadFiles,\n",
              "  _uploadFilesContinue,\n",
              "};\n",
              "})(self);\n",
              "</script> "
            ]
          },
          "metadata": {}
        },
        {
          "output_type": "stream",
          "name": "stdout",
          "text": [
            "Saving cars_power.csv to cars_power.csv\n"
          ]
        }
      ]
    },
    {
      "cell_type": "code",
      "source": [
        "cars_power = pd.read_csv('/content/cars_power.csv')"
      ],
      "metadata": {
        "id": "IuBKaoKImvtL"
      },
      "execution_count": null,
      "outputs": []
    },
    {
      "cell_type": "markdown",
      "source": [
        "Переводим тип трансмиссии в числовой формат"
      ],
      "metadata": {
        "id": "wtHnI2cjmMcj"
      }
    },
    {
      "cell_type": "code",
      "source": [
        "cars_power['Transmission'] = cars_power['Transmission'].replace('Automatic', 1)\n",
        "cars_power['Transmission'] = cars_power['Transmission'].replace('Manual', 0)"
      ],
      "metadata": {
        "id": "KGT7cdIxmL8z"
      },
      "execution_count": null,
      "outputs": []
    },
    {
      "cell_type": "markdown",
      "source": [
        "Разделяем на тренировочную и тестовую выборки"
      ],
      "metadata": {
        "id": "uWjmn1ACmlkj"
      }
    },
    {
      "cell_type": "code",
      "source": [
        "X = cars_power[num_columns].values  \n",
        "y = cars_power[\"Transmission\"].values\n",
        "features_names = cars_power[num_columns].columns\n",
        "\n",
        "X_train, X_test, y_train, y_test = train_test_split(X, y, test_size=0.3, random_state=42)\n",
        "\n",
        "\n",
        "scaler  = MinMaxScaler()\n",
        "X_train = scaler.fit_transform(X_train)\n",
        "X_test  = scaler.transform(X_test) \n",
        "pd.DataFrame(X_train).tail()"
      ],
      "metadata": {
        "id": "gkNca9tjqYkQ",
        "colab": {
          "base_uri": "https://localhost:8080/",
          "height": 206
        },
        "outputId": "f22bf8a0-967a-44b6-cc1b-30f3c8de9872"
      },
      "execution_count": null,
      "outputs": [
        {
          "output_type": "execute_result",
          "data": {
            "text/plain": [
              "              0         1         2         3     4         5\n",
              "22549  0.403011  0.511438  0.646015  0.232825  0.60  0.005179\n",
              "22550  0.742400  0.830037  0.625965  0.555116  0.26  0.297166\n",
              "22551  0.841674  0.797731  0.625965  0.593562  0.16  0.343601\n",
              "22552  0.841674  0.835606  0.581508  0.567431  0.16  0.487865\n",
              "22553  0.940701  0.674743  0.715338  0.778849  0.06  0.248497"
            ],
            "text/html": [
              "\n",
              "  <div id=\"df-5ea74304-61fb-4602-b595-eb0e5a6603d3\">\n",
              "    <div class=\"colab-df-container\">\n",
              "      <div>\n",
              "<style scoped>\n",
              "    .dataframe tbody tr th:only-of-type {\n",
              "        vertical-align: middle;\n",
              "    }\n",
              "\n",
              "    .dataframe tbody tr th {\n",
              "        vertical-align: top;\n",
              "    }\n",
              "\n",
              "    .dataframe thead th {\n",
              "        text-align: right;\n",
              "    }\n",
              "</style>\n",
              "<table border=\"1\" class=\"dataframe\">\n",
              "  <thead>\n",
              "    <tr style=\"text-align: right;\">\n",
              "      <th></th>\n",
              "      <th>0</th>\n",
              "      <th>1</th>\n",
              "      <th>2</th>\n",
              "      <th>3</th>\n",
              "      <th>4</th>\n",
              "      <th>5</th>\n",
              "    </tr>\n",
              "  </thead>\n",
              "  <tbody>\n",
              "    <tr>\n",
              "      <th>22549</th>\n",
              "      <td>0.403011</td>\n",
              "      <td>0.511438</td>\n",
              "      <td>0.646015</td>\n",
              "      <td>0.232825</td>\n",
              "      <td>0.60</td>\n",
              "      <td>0.005179</td>\n",
              "    </tr>\n",
              "    <tr>\n",
              "      <th>22550</th>\n",
              "      <td>0.742400</td>\n",
              "      <td>0.830037</td>\n",
              "      <td>0.625965</td>\n",
              "      <td>0.555116</td>\n",
              "      <td>0.26</td>\n",
              "      <td>0.297166</td>\n",
              "    </tr>\n",
              "    <tr>\n",
              "      <th>22551</th>\n",
              "      <td>0.841674</td>\n",
              "      <td>0.797731</td>\n",
              "      <td>0.625965</td>\n",
              "      <td>0.593562</td>\n",
              "      <td>0.16</td>\n",
              "      <td>0.343601</td>\n",
              "    </tr>\n",
              "    <tr>\n",
              "      <th>22552</th>\n",
              "      <td>0.841674</td>\n",
              "      <td>0.835606</td>\n",
              "      <td>0.581508</td>\n",
              "      <td>0.567431</td>\n",
              "      <td>0.16</td>\n",
              "      <td>0.487865</td>\n",
              "    </tr>\n",
              "    <tr>\n",
              "      <th>22553</th>\n",
              "      <td>0.940701</td>\n",
              "      <td>0.674743</td>\n",
              "      <td>0.715338</td>\n",
              "      <td>0.778849</td>\n",
              "      <td>0.06</td>\n",
              "      <td>0.248497</td>\n",
              "    </tr>\n",
              "  </tbody>\n",
              "</table>\n",
              "</div>\n",
              "      <button class=\"colab-df-convert\" onclick=\"convertToInteractive('df-5ea74304-61fb-4602-b595-eb0e5a6603d3')\"\n",
              "              title=\"Convert this dataframe to an interactive table.\"\n",
              "              style=\"display:none;\">\n",
              "        \n",
              "  <svg xmlns=\"http://www.w3.org/2000/svg\" height=\"24px\"viewBox=\"0 0 24 24\"\n",
              "       width=\"24px\">\n",
              "    <path d=\"M0 0h24v24H0V0z\" fill=\"none\"/>\n",
              "    <path d=\"M18.56 5.44l.94 2.06.94-2.06 2.06-.94-2.06-.94-.94-2.06-.94 2.06-2.06.94zm-11 1L8.5 8.5l.94-2.06 2.06-.94-2.06-.94L8.5 2.5l-.94 2.06-2.06.94zm10 10l.94 2.06.94-2.06 2.06-.94-2.06-.94-.94-2.06-.94 2.06-2.06.94z\"/><path d=\"M17.41 7.96l-1.37-1.37c-.4-.4-.92-.59-1.43-.59-.52 0-1.04.2-1.43.59L10.3 9.45l-7.72 7.72c-.78.78-.78 2.05 0 2.83L4 21.41c.39.39.9.59 1.41.59.51 0 1.02-.2 1.41-.59l7.78-7.78 2.81-2.81c.8-.78.8-2.07 0-2.86zM5.41 20L4 18.59l7.72-7.72 1.47 1.35L5.41 20z\"/>\n",
              "  </svg>\n",
              "      </button>\n",
              "      \n",
              "  <style>\n",
              "    .colab-df-container {\n",
              "      display:flex;\n",
              "      flex-wrap:wrap;\n",
              "      gap: 12px;\n",
              "    }\n",
              "\n",
              "    .colab-df-convert {\n",
              "      background-color: #E8F0FE;\n",
              "      border: none;\n",
              "      border-radius: 50%;\n",
              "      cursor: pointer;\n",
              "      display: none;\n",
              "      fill: #1967D2;\n",
              "      height: 32px;\n",
              "      padding: 0 0 0 0;\n",
              "      width: 32px;\n",
              "    }\n",
              "\n",
              "    .colab-df-convert:hover {\n",
              "      background-color: #E2EBFA;\n",
              "      box-shadow: 0px 1px 2px rgba(60, 64, 67, 0.3), 0px 1px 3px 1px rgba(60, 64, 67, 0.15);\n",
              "      fill: #174EA6;\n",
              "    }\n",
              "\n",
              "    [theme=dark] .colab-df-convert {\n",
              "      background-color: #3B4455;\n",
              "      fill: #D2E3FC;\n",
              "    }\n",
              "\n",
              "    [theme=dark] .colab-df-convert:hover {\n",
              "      background-color: #434B5C;\n",
              "      box-shadow: 0px 1px 3px 1px rgba(0, 0, 0, 0.15);\n",
              "      filter: drop-shadow(0px 1px 2px rgba(0, 0, 0, 0.3));\n",
              "      fill: #FFFFFF;\n",
              "    }\n",
              "  </style>\n",
              "\n",
              "      <script>\n",
              "        const buttonEl =\n",
              "          document.querySelector('#df-5ea74304-61fb-4602-b595-eb0e5a6603d3 button.colab-df-convert');\n",
              "        buttonEl.style.display =\n",
              "          google.colab.kernel.accessAllowed ? 'block' : 'none';\n",
              "\n",
              "        async function convertToInteractive(key) {\n",
              "          const element = document.querySelector('#df-5ea74304-61fb-4602-b595-eb0e5a6603d3');\n",
              "          const dataTable =\n",
              "            await google.colab.kernel.invokeFunction('convertToInteractive',\n",
              "                                                     [key], {});\n",
              "          if (!dataTable) return;\n",
              "\n",
              "          const docLinkHtml = 'Like what you see? Visit the ' +\n",
              "            '<a target=\"_blank\" href=https://colab.research.google.com/notebooks/data_table.ipynb>data table notebook</a>'\n",
              "            + ' to learn more about interactive tables.';\n",
              "          element.innerHTML = '';\n",
              "          dataTable['output_type'] = 'display_data';\n",
              "          await google.colab.output.renderOutput(dataTable, element);\n",
              "          const docLink = document.createElement('div');\n",
              "          docLink.innerHTML = docLinkHtml;\n",
              "          element.appendChild(docLink);\n",
              "        }\n",
              "      </script>\n",
              "    </div>\n",
              "  </div>\n",
              "  "
            ]
          },
          "metadata": {},
          "execution_count": 91
        }
      ]
    },
    {
      "cell_type": "code",
      "source": [
        "regr = LogisticRegression(learning_rate=0.8, epochs=2000, batch_size=5000, l1_penalty = 0.000001, l2_penalty = 0.00005)\n",
        "\n",
        "regr.fit(X_train, y_train)\n",
        "\n",
        "regr.plot_cost()\n",
        "\n",
        "print( 'train Accuracy: %.4f; test Accuracy: %.4f' % (regr.score(X_train, y_train), regr.score(X_test, y_test)))\n",
        "\n",
        "regr.classification_report(X_test, y_test)"
      ],
      "metadata": {
        "colab": {
          "base_uri": "https://localhost:8080/",
          "height": 394
        },
        "id": "cJpAjf4gp--E",
        "outputId": "13cc24d5-bfc4-4598-e72e-e54a2e892f33"
      },
      "execution_count": null,
      "outputs": [
        {
          "output_type": "display_data",
          "data": {
            "text/plain": [
              "<Figure size 576x288 with 1 Axes>"
            ],
            "image/png": "[encoded data removed]"
          },
          "metadata": {}
        },
        {
          "output_type": "stream",
          "name": "stdout",
          "text": [
            "train Accuracy: 0.7950; test Accuracy: 0.7996\n",
            "True Positives:3315\tFalse Positives:847\n",
            "False Negatives:1090\tTrue Negatives:4414\n",
            "Accuracy:0.7996\n",
            "Recall:0.7526\tPrecision:0.7965\n",
            "f1 measure:0.7739\n"
          ]
        }
      ]
    },
    {
      "cell_type": "code",
      "source": [
        "w, b = regr.get_w_and_b()\n",
        "plt.bar(x = range(w.size),height=w)\n",
        "plt.xticks(range(w.size),features_names, rotation = 45 );"
      ],
      "metadata": {
        "colab": {
          "base_uri": "https://localhost:8080/",
          "height": 352
        },
        "id": "g_s0T6m_m0kA",
        "outputId": "3cc56ca2-cfc7-4044-be9c-3144b71fc9cc"
      },
      "execution_count": null,
      "outputs": [
        {
          "output_type": "display_data",
          "data": {
            "text/plain": [
              "<Figure size 432x288 with 1 Axes>"
            ],
            "image/png": "[encoded data removed]"
          },
          "metadata": {}
        }
      ]
    },
    {
      "cell_type": "markdown",
      "source": [
        "Самым значимым признаком является цена автомобиля. Второй по значимости -- объем двигателя. Самый незначительный -- удельный пробег в год."
      ],
      "metadata": {
        "id": "Ig876fUun49Q"
      }
    },
    {
      "cell_type": "markdown",
      "source": [
        "### cars_norm - normalization"
      ],
      "metadata": {
        "id": "Lh0oWBGjlw1e"
      }
    },
    {
      "cell_type": "code",
      "source": [
        "up_norm = files.upload()"
      ],
      "metadata": {
        "colab": {
          "base_uri": "https://localhost:8080/",
          "height": 73
        },
        "id": "8GREEjGrl2N4",
        "outputId": "f0a0687c-0c42-4ec3-fe4b-002ad47f0c14"
      },
      "execution_count": null,
      "outputs": [
        {
          "output_type": "display_data",
          "data": {
            "text/plain": [
              "<IPython.core.display.HTML object>"
            ],
            "text/html": [
              "\n",
              "     <input type=\"file\" id=\"files-7f96431a-b3fa-4e94-b89c-b347c9b69fb6\" name=\"files[]\" multiple disabled\n",
              "        style=\"border:none\" />\n",
              "     <output id=\"result-7f96431a-b3fa-4e94-b89c-b347c9b69fb6\">\n",
              "      Upload widget is only available when the cell has been executed in the\n",
              "      current browser session. Please rerun this cell to enable.\n",
              "      </output>\n",
              "      <script>// Copyright 2017 Google LLC\n",
              "//\n",
              "// Licensed under the Apache License, Version 2.0 (the \"License\");\n",
              "// you may not use this file except in compliance with the License.\n",
              "// You may obtain a copy of the License at\n",
              "//\n",
              "//      http://www.apache.org/licenses/LICENSE-2.0\n",
              "//\n",
              "// Unless required by applicable law or agreed to in writing, software\n",
              "// distributed under the License is distributed on an \"AS IS\" BASIS,\n",
              "// WITHOUT WARRANTIES OR CONDITIONS OF ANY KIND, either express or implied.\n",
              "// See the License for the specific language governing permissions and\n",
              "// limitations under the License.\n",
              "\n",
              "/**\n",
              " * @fileoverview Helpers for google.colab Python module.\n",
              " */\n",
              "(function(scope) {\n",
              "function span(text, styleAttributes = {}) {\n",
              "  const element = document.createElement('span');\n",
              "  element.textContent = text;\n",
              "  for (const key of Object.keys(styleAttributes)) {\n",
              "    element.style[key] = styleAttributes[key];\n",
              "  }\n",
              "  return element;\n",
              "}\n",
              "\n",
              "// Max number of bytes which will be uploaded at a time.\n",
              "const MAX_PAYLOAD_SIZE = 100 * 1024;\n",
              "\n",
              "function _uploadFiles(inputId, outputId) {\n",
              "  const steps = uploadFilesStep(inputId, outputId);\n",
              "  const outputElement = document.getElementById(outputId);\n",
              "  // Cache steps on the outputElement to make it available for the next call\n",
              "  // to uploadFilesContinue from Python.\n",
              "  outputElement.steps = steps;\n",
              "\n",
              "  return _uploadFilesContinue(outputId);\n",
              "}\n",
              "\n",
              "// This is roughly an async generator (not supported in the browser yet),\n",
              "// where there are multiple asynchronous steps and the Python side is going\n",
              "// to poll for completion of each step.\n",
              "// This uses a Promise to block the python side on completion of each step,\n",
              "// then passes the result of the previous step as the input to the next step.\n",
              "function _uploadFilesContinue(outputId) {\n",
              "  const outputElement = document.getElementById(outputId);\n",
              "  const steps = outputElement.steps;\n",
              "\n",
              "  const next = steps.next(outputElement.lastPromiseValue);\n",
              "  return Promise.resolve(next.value.promise).then((value) => {\n",
              "    // Cache the last promise value to make it available to the next\n",
              "    // step of the generator.\n",
              "    outputElement.lastPromiseValue = value;\n",
              "    return next.value.response;\n",
              "  });\n",
              "}\n",
              "\n",
              "/**\n",
              " * Generator function which is called between each async step of the upload\n",
              " * process.\n",
              " * @param {string} inputId Element ID of the input file picker element.\n",
              " * @param {string} outputId Element ID of the output display.\n",
              " * @return {!Iterable<!Object>} Iterable of next steps.\n",
              " */\n",
              "function* uploadFilesStep(inputId, outputId) {\n",
              "  const inputElement = document.getElementById(inputId);\n",
              "  inputElement.disabled = false;\n",
              "\n",
              "  const outputElement = document.getElementById(outputId);\n",
              "  outputElement.innerHTML = '';\n",
              "\n",
              "  const pickedPromise = new Promise((resolve) => {\n",
              "    inputElement.addEventListener('change', (e) => {\n",
              "      resolve(e.target.files);\n",
              "    });\n",
              "  });\n",
              "\n",
              "  const cancel = document.createElement('button');\n",
              "  inputElement.parentElement.appendChild(cancel);\n",
              "  cancel.textContent = 'Cancel upload';\n",
              "  const cancelPromise = new Promise((resolve) => {\n",
              "    cancel.onclick = () => {\n",
              "      resolve(null);\n",
              "    };\n",
              "  });\n",
              "\n",
              "  // Wait for the user to pick the files.\n",
              "  const files = yield {\n",
              "    promise: Promise.race([pickedPromise, cancelPromise]),\n",
              "    response: {\n",
              "      action: 'starting',\n",
              "    }\n",
              "  };\n",
              "\n",
              "  cancel.remove();\n",
              "\n",
              "  // Disable the input element since further picks are not allowed.\n",
              "  inputElement.disabled = true;\n",
              "\n",
              "  if (!files) {\n",
              "    return {\n",
              "      response: {\n",
              "        action: 'complete',\n",
              "      }\n",
              "    };\n",
              "  }\n",
              "\n",
              "  for (const file of files) {\n",
              "    const li = document.createElement('li');\n",
              "    li.append(span(file.name, {fontWeight: 'bold'}));\n",
              "    li.append(span(\n",
              "        `(${file.type || 'n/a'}) - ${file.size} bytes, ` +\n",
              "        `last modified: ${\n",
              "            file.lastModifiedDate ? file.lastModifiedDate.toLocaleDateString() :\n",
              "                                    'n/a'} - `));\n",
              "    const percent = span('0% done');\n",
              "    li.appendChild(percent);\n",
              "\n",
              "    outputElement.appendChild(li);\n",
              "\n",
              "    const fileDataPromise = new Promise((resolve) => {\n",
              "      const reader = new FileReader();\n",
              "      reader.onload = (e) => {\n",
              "        resolve(e.target.result);\n",
              "      };\n",
              "      reader.readAsArrayBuffer(file);\n",
              "    });\n",
              "    // Wait for the data to be ready.\n",
              "    let fileData = yield {\n",
              "      promise: fileDataPromise,\n",
              "      response: {\n",
              "        action: 'continue',\n",
              "      }\n",
              "    };\n",
              "\n",
              "    // Use a chunked sending to avoid message size limits. See b/62115660.\n",
              "    let position = 0;\n",
              "    do {\n",
              "      const length = Math.min(fileData.byteLength - position, MAX_PAYLOAD_SIZE);\n",
              "      const chunk = new Uint8Array(fileData, position, length);\n",
              "      position += length;\n",
              "\n",
              "      const base64 = btoa(String.fromCharCode.apply(null, chunk));\n",
              "      yield {\n",
              "        response: {\n",
              "          action: 'append',\n",
              "          file: file.name,\n",
              "          data: base64,\n",
              "        },\n",
              "      };\n",
              "\n",
              "      let percentDone = fileData.byteLength === 0 ?\n",
              "          100 :\n",
              "          Math.round((position / fileData.byteLength) * 100);\n",
              "      percent.textContent = `${percentDone}% done`;\n",
              "\n",
              "    } while (position < fileData.byteLength);\n",
              "  }\n",
              "\n",
              "  // All done.\n",
              "  yield {\n",
              "    response: {\n",
              "      action: 'complete',\n",
              "    }\n",
              "  };\n",
              "}\n",
              "\n",
              "scope.google = scope.google || {};\n",
              "scope.google.colab = scope.google.colab || {};\n",
              "scope.google.colab._files = {\n",
              "  _uploadFiles,\n",
              "  _uploadFilesContinue,\n",
              "};\n",
              "})(self);\n",
              "</script> "
            ]
          },
          "metadata": {}
        },
        {
          "output_type": "stream",
          "name": "stdout",
          "text": [
            "Saving cars_normalization.csv to cars_normalization.csv\n"
          ]
        }
      ]
    },
    {
      "cell_type": "code",
      "source": [
        "cars_norm = pd.read_csv('/content/cars_normalization.csv')"
      ],
      "metadata": {
        "id": "tR29ixaTl5TK"
      },
      "execution_count": null,
      "outputs": []
    },
    {
      "cell_type": "code",
      "source": [
        "cars_norm['Transmission'] = cars_norm['Transmission'].replace('Automatic', 1)\n",
        "cars_norm['Transmission'] = cars_norm['Transmission'].replace('Manual', 0)"
      ],
      "metadata": {
        "id": "DgJYsJ8YoMWf"
      },
      "execution_count": null,
      "outputs": []
    },
    {
      "cell_type": "code",
      "source": [
        "X = cars_norm[num_columns].values  \n",
        "y = cars_norm[\"Transmission\"].values\n",
        "features_names = cars_norm[num_columns].columns\n",
        "\n",
        "X_train, X_test, y_train, y_test = train_test_split(X, y, test_size=0.3, random_state=42)\n",
        "\n",
        "\n",
        "scaler  = MinMaxScaler()\n",
        "X_train = scaler.fit_transform(X_train)\n",
        "X_test  = scaler.transform(X_test) \n",
        "pd.DataFrame(X_train).tail()"
      ],
      "metadata": {
        "colab": {
          "base_uri": "https://localhost:8080/",
          "height": 206
        },
        "id": "yzn3lzInoZ3m",
        "outputId": "f737428f-070b-4cba-b4b3-7d21a4f2ad1e"
      },
      "execution_count": null,
      "outputs": [
        {
          "output_type": "execute_result",
          "data": {
            "text/plain": [
              "          0         1         2         3     4         5\n",
              "22549  0.40  0.011012  0.291667  0.006513  0.60  0.005179\n",
              "22550  0.74  0.208921  0.270833  0.061112  0.26  0.297166\n",
              "22551  0.84  0.155127  0.270833  0.078146  0.16  0.343601\n",
              "22552  0.84  0.219922  0.229167  0.066132  0.16  0.487865\n",
              "22553  0.94  0.049905  0.375000  0.251503  0.06  0.248497"
            ],
            "text/html": [
              "\n",
              "  <div id=\"df-b22f8202-e579-486c-936d-910d3891d1bc\">\n",
              "    <div class=\"colab-df-container\">\n",
              "      <div>\n",
              "<style scoped>\n",
              "    .dataframe tbody tr th:only-of-type {\n",
              "        vertical-align: middle;\n",
              "    }\n",
              "\n",
              "    .dataframe tbody tr th {\n",
              "        vertical-align: top;\n",
              "    }\n",
              "\n",
              "    .dataframe thead th {\n",
              "        text-align: right;\n",
              "    }\n",
              "</style>\n",
              "<table border=\"1\" class=\"dataframe\">\n",
              "  <thead>\n",
              "    <tr style=\"text-align: right;\">\n",
              "      <th></th>\n",
              "      <th>0</th>\n",
              "      <th>1</th>\n",
              "      <th>2</th>\n",
              "      <th>3</th>\n",
              "      <th>4</th>\n",
              "      <th>5</th>\n",
              "    </tr>\n",
              "  </thead>\n",
              "  <tbody>\n",
              "    <tr>\n",
              "      <th>22549</th>\n",
              "      <td>0.40</td>\n",
              "      <td>0.011012</td>\n",
              "      <td>0.291667</td>\n",
              "      <td>0.006513</td>\n",
              "      <td>0.60</td>\n",
              "      <td>0.005179</td>\n",
              "    </tr>\n",
              "    <tr>\n",
              "      <th>22550</th>\n",
              "      <td>0.74</td>\n",
              "      <td>0.208921</td>\n",
              "      <td>0.270833</td>\n",
              "      <td>0.061112</td>\n",
              "      <td>0.26</td>\n",
              "      <td>0.297166</td>\n",
              "    </tr>\n",
              "    <tr>\n",
              "      <th>22551</th>\n",
              "      <td>0.84</td>\n",
              "      <td>0.155127</td>\n",
              "      <td>0.270833</td>\n",
              "      <td>0.078146</td>\n",
              "      <td>0.16</td>\n",
              "      <td>0.343601</td>\n",
              "    </tr>\n",
              "    <tr>\n",
              "      <th>22552</th>\n",
              "      <td>0.84</td>\n",
              "      <td>0.219922</td>\n",
              "      <td>0.229167</td>\n",
              "      <td>0.066132</td>\n",
              "      <td>0.16</td>\n",
              "      <td>0.487865</td>\n",
              "    </tr>\n",
              "    <tr>\n",
              "      <th>22553</th>\n",
              "      <td>0.94</td>\n",
              "      <td>0.049905</td>\n",
              "      <td>0.375000</td>\n",
              "      <td>0.251503</td>\n",
              "      <td>0.06</td>\n",
              "      <td>0.248497</td>\n",
              "    </tr>\n",
              "  </tbody>\n",
              "</table>\n",
              "</div>\n",
              "      <button class=\"colab-df-convert\" onclick=\"convertToInteractive('df-b22f8202-e579-486c-936d-910d3891d1bc')\"\n",
              "              title=\"Convert this dataframe to an interactive table.\"\n",
              "              style=\"display:none;\">\n",
              "        \n",
              "  <svg xmlns=\"http://www.w3.org/2000/svg\" height=\"24px\"viewBox=\"0 0 24 24\"\n",
              "       width=\"24px\">\n",
              "    <path d=\"M0 0h24v24H0V0z\" fill=\"none\"/>\n",
              "    <path d=\"M18.56 5.44l.94 2.06.94-2.06 2.06-.94-2.06-.94-.94-2.06-.94 2.06-2.06.94zm-11 1L8.5 8.5l.94-2.06 2.06-.94-2.06-.94L8.5 2.5l-.94 2.06-2.06.94zm10 10l.94 2.06.94-2.06 2.06-.94-2.06-.94-.94-2.06-.94 2.06-2.06.94z\"/><path d=\"M17.41 7.96l-1.37-1.37c-.4-.4-.92-.59-1.43-.59-.52 0-1.04.2-1.43.59L10.3 9.45l-7.72 7.72c-.78.78-.78 2.05 0 2.83L4 21.41c.39.39.9.59 1.41.59.51 0 1.02-.2 1.41-.59l7.78-7.78 2.81-2.81c.8-.78.8-2.07 0-2.86zM5.41 20L4 18.59l7.72-7.72 1.47 1.35L5.41 20z\"/>\n",
              "  </svg>\n",
              "      </button>\n",
              "      \n",
              "  <style>\n",
              "    .colab-df-container {\n",
              "      display:flex;\n",
              "      flex-wrap:wrap;\n",
              "      gap: 12px;\n",
              "    }\n",
              "\n",
              "    .colab-df-convert {\n",
              "      background-color: #E8F0FE;\n",
              "      border: none;\n",
              "      border-radius: 50%;\n",
              "      cursor: pointer;\n",
              "      display: none;\n",
              "      fill: #1967D2;\n",
              "      height: 32px;\n",
              "      padding: 0 0 0 0;\n",
              "      width: 32px;\n",
              "    }\n",
              "\n",
              "    .colab-df-convert:hover {\n",
              "      background-color: #E2EBFA;\n",
              "      box-shadow: 0px 1px 2px rgba(60, 64, 67, 0.3), 0px 1px 3px 1px rgba(60, 64, 67, 0.15);\n",
              "      fill: #174EA6;\n",
              "    }\n",
              "\n",
              "    [theme=dark] .colab-df-convert {\n",
              "      background-color: #3B4455;\n",
              "      fill: #D2E3FC;\n",
              "    }\n",
              "\n",
              "    [theme=dark] .colab-df-convert:hover {\n",
              "      background-color: #434B5C;\n",
              "      box-shadow: 0px 1px 3px 1px rgba(0, 0, 0, 0.15);\n",
              "      filter: drop-shadow(0px 1px 2px rgba(0, 0, 0, 0.3));\n",
              "      fill: #FFFFFF;\n",
              "    }\n",
              "  </style>\n",
              "\n",
              "      <script>\n",
              "        const buttonEl =\n",
              "          document.querySelector('#df-b22f8202-e579-486c-936d-910d3891d1bc button.colab-df-convert');\n",
              "        buttonEl.style.display =\n",
              "          google.colab.kernel.accessAllowed ? 'block' : 'none';\n",
              "\n",
              "        async function convertToInteractive(key) {\n",
              "          const element = document.querySelector('#df-b22f8202-e579-486c-936d-910d3891d1bc');\n",
              "          const dataTable =\n",
              "            await google.colab.kernel.invokeFunction('convertToInteractive',\n",
              "                                                     [key], {});\n",
              "          if (!dataTable) return;\n",
              "\n",
              "          const docLinkHtml = 'Like what you see? Visit the ' +\n",
              "            '<a target=\"_blank\" href=https://colab.research.google.com/notebooks/data_table.ipynb>data table notebook</a>'\n",
              "            + ' to learn more about interactive tables.';\n",
              "          element.innerHTML = '';\n",
              "          dataTable['output_type'] = 'display_data';\n",
              "          await google.colab.output.renderOutput(dataTable, element);\n",
              "          const docLink = document.createElement('div');\n",
              "          docLink.innerHTML = docLinkHtml;\n",
              "          element.appendChild(docLink);\n",
              "        }\n",
              "      </script>\n",
              "    </div>\n",
              "  </div>\n",
              "  "
            ]
          },
          "metadata": {},
          "execution_count": 96
        }
      ]
    },
    {
      "cell_type": "code",
      "source": [
        "regr = LogisticRegression(learning_rate=0.8, epochs=2000, batch_size=5000, l1_penalty = 0.000001, l2_penalty = 0.00005)\n",
        "\n",
        "regr.fit(X_train, y_train)\n",
        "\n",
        "regr.plot_cost()\n",
        "\n",
        "print( 'train Accuracy: %.4f; test Accuracy: %.4f' % (regr.score(X_train, y_train), regr.score(X_test, y_test)))\n",
        "\n",
        "regr.classification_report(X_test, y_test)"
      ],
      "metadata": {
        "id": "lLBBgBfhrmIs",
        "colab": {
          "base_uri": "https://localhost:8080/",
          "height": 394
        },
        "outputId": "2cbc4f65-e659-4ab3-d4b0-2bb7e9bbab79"
      },
      "execution_count": null,
      "outputs": [
        {
          "output_type": "display_data",
          "data": {
            "text/plain": [
              "<Figure size 576x288 with 1 Axes>"
            ],
            "image/png": "[encoded data removed]"
          },
          "metadata": {}
        },
        {
          "output_type": "stream",
          "name": "stdout",
          "text": [
            "train Accuracy: 0.8080; test Accuracy: 0.8125\n",
            "True Positives:3281\tFalse Positives:688\n",
            "False Negatives:1124\tTrue Negatives:4573\n",
            "Accuracy:0.8125\n",
            "Recall:0.7448\tPrecision:0.8267\n",
            "f1 measure:0.7836\n"
          ]
        }
      ]
    },
    {
      "cell_type": "code",
      "source": [
        "w, b = regr.get_w_and_b()\n",
        "plt.bar(x = range(w.size),height=w)\n",
        "plt.xticks(range(w.size),features_names, rotation = 45 );"
      ],
      "metadata": {
        "colab": {
          "base_uri": "https://localhost:8080/",
          "height": 352
        },
        "id": "TfnQLREBokdJ",
        "outputId": "9c049321-354c-4ea3-f489-b528337599c5"
      },
      "execution_count": null,
      "outputs": [
        {
          "output_type": "display_data",
          "data": {
            "text/plain": [
              "<Figure size 432x288 with 1 Axes>"
            ],
            "image/png": "[encoded data removed]"
          },
          "metadata": {}
        }
      ]
    },
    {
      "cell_type": "markdown",
      "source": [
        "Как и раньше, самые значительные признаки -- объем двигателя и цена."
      ],
      "metadata": {
        "id": "G4m9J0dTpIZT"
      }
    },
    {
      "cell_type": "markdown",
      "source": [
        "Изменим гиперпараметры, чтобы улучшить модель"
      ],
      "metadata": {
        "id": "joP5d4bTq1vx"
      }
    },
    {
      "cell_type": "code",
      "source": [
        "regr = LogisticRegression(learning_rate=1, epochs=3000, batch_size=5000, l1_penalty = 0.000001, l2_penalty = 0.000001)\n",
        "\n",
        "regr.fit(X_train, y_train)\n",
        "\n",
        "regr.plot_cost()\n",
        "\n",
        "print( 'train Accuracy: %.4f; test Accuracy: %.4f' % (regr.score(X_train, y_train), regr.score(X_test, y_test)))\n",
        "\n",
        "regr.classification_report(X_test, y_test)"
      ],
      "metadata": {
        "colab": {
          "base_uri": "https://localhost:8080/",
          "height": 394
        },
        "id": "8j-WLwoDq6Ui",
        "outputId": "1666d0f4-80d2-4109-f85e-512a8c7ed9fa"
      },
      "execution_count": null,
      "outputs": [
        {
          "output_type": "display_data",
          "data": {
            "text/plain": [
              "<Figure size 576x288 with 1 Axes>"
            ],
            "image/png": "[encoded data removed]"
          },
          "metadata": {}
        },
        {
          "output_type": "stream",
          "name": "stdout",
          "text": [
            "train Accuracy: 0.8094; test Accuracy: 0.8158\n",
            "True Positives:3285\tFalse Positives:660\n",
            "False Negatives:1120\tTrue Negatives:4601\n",
            "Accuracy:0.8158\n",
            "Recall:0.7457\tPrecision:0.8327\n",
            "f1 measure:0.7868\n"
          ]
        }
      ]
    },
    {
      "cell_type": "markdown",
      "source": [
        "### cars_standard - standartization"
      ],
      "metadata": {
        "id": "eOptkA1vlgyb"
      }
    },
    {
      "cell_type": "code",
      "source": [
        "up_st = files.upload()"
      ],
      "metadata": {
        "colab": {
          "base_uri": "https://localhost:8080/",
          "height": 73
        },
        "id": "7REYsyaYlkMc",
        "outputId": "2028ca7b-5ed4-4d05-8f17-e1342979d1ae"
      },
      "execution_count": null,
      "outputs": [
        {
          "output_type": "display_data",
          "data": {
            "text/plain": [
              "<IPython.core.display.HTML object>"
            ],
            "text/html": [
              "\n",
              "     <input type=\"file\" id=\"files-213543c3-3300-4f07-80ba-a261cddb0a7e\" name=\"files[]\" multiple disabled\n",
              "        style=\"border:none\" />\n",
              "     <output id=\"result-213543c3-3300-4f07-80ba-a261cddb0a7e\">\n",
              "      Upload widget is only available when the cell has been executed in the\n",
              "      current browser session. Please rerun this cell to enable.\n",
              "      </output>\n",
              "      <script>// Copyright 2017 Google LLC\n",
              "//\n",
              "// Licensed under the Apache License, Version 2.0 (the \"License\");\n",
              "// you may not use this file except in compliance with the License.\n",
              "// You may obtain a copy of the License at\n",
              "//\n",
              "//      http://www.apache.org/licenses/LICENSE-2.0\n",
              "//\n",
              "// Unless required by applicable law or agreed to in writing, software\n",
              "// distributed under the License is distributed on an \"AS IS\" BASIS,\n",
              "// WITHOUT WARRANTIES OR CONDITIONS OF ANY KIND, either express or implied.\n",
              "// See the License for the specific language governing permissions and\n",
              "// limitations under the License.\n",
              "\n",
              "/**\n",
              " * @fileoverview Helpers for google.colab Python module.\n",
              " */\n",
              "(function(scope) {\n",
              "function span(text, styleAttributes = {}) {\n",
              "  const element = document.createElement('span');\n",
              "  element.textContent = text;\n",
              "  for (const key of Object.keys(styleAttributes)) {\n",
              "    element.style[key] = styleAttributes[key];\n",
              "  }\n",
              "  return element;\n",
              "}\n",
              "\n",
              "// Max number of bytes which will be uploaded at a time.\n",
              "const MAX_PAYLOAD_SIZE = 100 * 1024;\n",
              "\n",
              "function _uploadFiles(inputId, outputId) {\n",
              "  const steps = uploadFilesStep(inputId, outputId);\n",
              "  const outputElement = document.getElementById(outputId);\n",
              "  // Cache steps on the outputElement to make it available for the next call\n",
              "  // to uploadFilesContinue from Python.\n",
              "  outputElement.steps = steps;\n",
              "\n",
              "  return _uploadFilesContinue(outputId);\n",
              "}\n",
              "\n",
              "// This is roughly an async generator (not supported in the browser yet),\n",
              "// where there are multiple asynchronous steps and the Python side is going\n",
              "// to poll for completion of each step.\n",
              "// This uses a Promise to block the python side on completion of each step,\n",
              "// then passes the result of the previous step as the input to the next step.\n",
              "function _uploadFilesContinue(outputId) {\n",
              "  const outputElement = document.getElementById(outputId);\n",
              "  const steps = outputElement.steps;\n",
              "\n",
              "  const next = steps.next(outputElement.lastPromiseValue);\n",
              "  return Promise.resolve(next.value.promise).then((value) => {\n",
              "    // Cache the last promise value to make it available to the next\n",
              "    // step of the generator.\n",
              "    outputElement.lastPromiseValue = value;\n",
              "    return next.value.response;\n",
              "  });\n",
              "}\n",
              "\n",
              "/**\n",
              " * Generator function which is called between each async step of the upload\n",
              " * process.\n",
              " * @param {string} inputId Element ID of the input file picker element.\n",
              " * @param {string} outputId Element ID of the output display.\n",
              " * @return {!Iterable<!Object>} Iterable of next steps.\n",
              " */\n",
              "function* uploadFilesStep(inputId, outputId) {\n",
              "  const inputElement = document.getElementById(inputId);\n",
              "  inputElement.disabled = false;\n",
              "\n",
              "  const outputElement = document.getElementById(outputId);\n",
              "  outputElement.innerHTML = '';\n",
              "\n",
              "  const pickedPromise = new Promise((resolve) => {\n",
              "    inputElement.addEventListener('change', (e) => {\n",
              "      resolve(e.target.files);\n",
              "    });\n",
              "  });\n",
              "\n",
              "  const cancel = document.createElement('button');\n",
              "  inputElement.parentElement.appendChild(cancel);\n",
              "  cancel.textContent = 'Cancel upload';\n",
              "  const cancelPromise = new Promise((resolve) => {\n",
              "    cancel.onclick = () => {\n",
              "      resolve(null);\n",
              "    };\n",
              "  });\n",
              "\n",
              "  // Wait for the user to pick the files.\n",
              "  const files = yield {\n",
              "    promise: Promise.race([pickedPromise, cancelPromise]),\n",
              "    response: {\n",
              "      action: 'starting',\n",
              "    }\n",
              "  };\n",
              "\n",
              "  cancel.remove();\n",
              "\n",
              "  // Disable the input element since further picks are not allowed.\n",
              "  inputElement.disabled = true;\n",
              "\n",
              "  if (!files) {\n",
              "    return {\n",
              "      response: {\n",
              "        action: 'complete',\n",
              "      }\n",
              "    };\n",
              "  }\n",
              "\n",
              "  for (const file of files) {\n",
              "    const li = document.createElement('li');\n",
              "    li.append(span(file.name, {fontWeight: 'bold'}));\n",
              "    li.append(span(\n",
              "        `(${file.type || 'n/a'}) - ${file.size} bytes, ` +\n",
              "        `last modified: ${\n",
              "            file.lastModifiedDate ? file.lastModifiedDate.toLocaleDateString() :\n",
              "                                    'n/a'} - `));\n",
              "    const percent = span('0% done');\n",
              "    li.appendChild(percent);\n",
              "\n",
              "    outputElement.appendChild(li);\n",
              "\n",
              "    const fileDataPromise = new Promise((resolve) => {\n",
              "      const reader = new FileReader();\n",
              "      reader.onload = (e) => {\n",
              "        resolve(e.target.result);\n",
              "      };\n",
              "      reader.readAsArrayBuffer(file);\n",
              "    });\n",
              "    // Wait for the data to be ready.\n",
              "    let fileData = yield {\n",
              "      promise: fileDataPromise,\n",
              "      response: {\n",
              "        action: 'continue',\n",
              "      }\n",
              "    };\n",
              "\n",
              "    // Use a chunked sending to avoid message size limits. See b/62115660.\n",
              "    let position = 0;\n",
              "    do {\n",
              "      const length = Math.min(fileData.byteLength - position, MAX_PAYLOAD_SIZE);\n",
              "      const chunk = new Uint8Array(fileData, position, length);\n",
              "      position += length;\n",
              "\n",
              "      const base64 = btoa(String.fromCharCode.apply(null, chunk));\n",
              "      yield {\n",
              "        response: {\n",
              "          action: 'append',\n",
              "          file: file.name,\n",
              "          data: base64,\n",
              "        },\n",
              "      };\n",
              "\n",
              "      let percentDone = fileData.byteLength === 0 ?\n",
              "          100 :\n",
              "          Math.round((position / fileData.byteLength) * 100);\n",
              "      percent.textContent = `${percentDone}% done`;\n",
              "\n",
              "    } while (position < fileData.byteLength);\n",
              "  }\n",
              "\n",
              "  // All done.\n",
              "  yield {\n",
              "    response: {\n",
              "      action: 'complete',\n",
              "    }\n",
              "  };\n",
              "}\n",
              "\n",
              "scope.google = scope.google || {};\n",
              "scope.google.colab = scope.google.colab || {};\n",
              "scope.google.colab._files = {\n",
              "  _uploadFiles,\n",
              "  _uploadFilesContinue,\n",
              "};\n",
              "})(self);\n",
              "</script> "
            ]
          },
          "metadata": {}
        },
        {
          "output_type": "stream",
          "name": "stdout",
          "text": [
            "Saving cars_standartization.csv to cars_standartization.csv\n"
          ]
        }
      ]
    },
    {
      "cell_type": "code",
      "source": [
        "cars_standard = pd.read_csv('/content/cars_standartization.csv')"
      ],
      "metadata": {
        "id": "MyPnGJ7Olobu"
      },
      "execution_count": null,
      "outputs": []
    },
    {
      "cell_type": "code",
      "source": [
        "cars_standard['Transmission'] = cars_standard['Transmission'].replace('Automatic', 1)\n",
        "cars_standard['Transmission'] = cars_standard['Transmission'].replace('Manual', 0)"
      ],
      "metadata": {
        "id": "HhubvAIwpdY8"
      },
      "execution_count": null,
      "outputs": []
    },
    {
      "cell_type": "code",
      "source": [
        "X = cars_standard[num_columns].values  \n",
        "y = cars_standard[\"Transmission\"].values\n",
        "features_names = cars_standard[num_columns].columns\n",
        "\n",
        "X_train, X_test, y_train, y_test = train_test_split(X, y, test_size=0.3, random_state=42)\n",
        "\n",
        "\n",
        "scaler  = MinMaxScaler()\n",
        "X_train = scaler.fit_transform(X_train)\n",
        "X_test  = scaler.transform(X_test) \n",
        "pd.DataFrame(X_train).tail()"
      ],
      "metadata": {
        "id": "_HBul3DWp9ZH",
        "colab": {
          "base_uri": "https://localhost:8080/",
          "height": 206
        },
        "outputId": "54a1b527-fa92-46e2-c4c7-0f59ac23e8fe"
      },
      "execution_count": null,
      "outputs": [
        {
          "output_type": "execute_result",
          "data": {
            "text/plain": [
              "          0         1         2         3     4         5\n",
              "22549  0.40  0.011012  0.291667  0.006513  0.60  0.005179\n",
              "22550  0.74  0.208921  0.270833  0.061112  0.26  0.297166\n",
              "22551  0.84  0.155127  0.270833  0.078146  0.16  0.343601\n",
              "22552  0.84  0.219922  0.229167  0.066132  0.16  0.487865\n",
              "22553  0.94  0.049905  0.375000  0.251503  0.06  0.248497"
            ],
            "text/html": [
              "\n",
              "  <div id=\"df-60e899b6-b021-4ac2-a22f-2856d216ca0a\">\n",
              "    <div class=\"colab-df-container\">\n",
              "      <div>\n",
              "<style scoped>\n",
              "    .dataframe tbody tr th:only-of-type {\n",
              "        vertical-align: middle;\n",
              "    }\n",
              "\n",
              "    .dataframe tbody tr th {\n",
              "        vertical-align: top;\n",
              "    }\n",
              "\n",
              "    .dataframe thead th {\n",
              "        text-align: right;\n",
              "    }\n",
              "</style>\n",
              "<table border=\"1\" class=\"dataframe\">\n",
              "  <thead>\n",
              "    <tr style=\"text-align: right;\">\n",
              "      <th></th>\n",
              "      <th>0</th>\n",
              "      <th>1</th>\n",
              "      <th>2</th>\n",
              "      <th>3</th>\n",
              "      <th>4</th>\n",
              "      <th>5</th>\n",
              "    </tr>\n",
              "  </thead>\n",
              "  <tbody>\n",
              "    <tr>\n",
              "      <th>22549</th>\n",
              "      <td>0.40</td>\n",
              "      <td>0.011012</td>\n",
              "      <td>0.291667</td>\n",
              "      <td>0.006513</td>\n",
              "      <td>0.60</td>\n",
              "      <td>0.005179</td>\n",
              "    </tr>\n",
              "    <tr>\n",
              "      <th>22550</th>\n",
              "      <td>0.74</td>\n",
              "      <td>0.208921</td>\n",
              "      <td>0.270833</td>\n",
              "      <td>0.061112</td>\n",
              "      <td>0.26</td>\n",
              "      <td>0.297166</td>\n",
              "    </tr>\n",
              "    <tr>\n",
              "      <th>22551</th>\n",
              "      <td>0.84</td>\n",
              "      <td>0.155127</td>\n",
              "      <td>0.270833</td>\n",
              "      <td>0.078146</td>\n",
              "      <td>0.16</td>\n",
              "      <td>0.343601</td>\n",
              "    </tr>\n",
              "    <tr>\n",
              "      <th>22552</th>\n",
              "      <td>0.84</td>\n",
              "      <td>0.219922</td>\n",
              "      <td>0.229167</td>\n",
              "      <td>0.066132</td>\n",
              "      <td>0.16</td>\n",
              "      <td>0.487865</td>\n",
              "    </tr>\n",
              "    <tr>\n",
              "      <th>22553</th>\n",
              "      <td>0.94</td>\n",
              "      <td>0.049905</td>\n",
              "      <td>0.375000</td>\n",
              "      <td>0.251503</td>\n",
              "      <td>0.06</td>\n",
              "      <td>0.248497</td>\n",
              "    </tr>\n",
              "  </tbody>\n",
              "</table>\n",
              "</div>\n",
              "      <button class=\"colab-df-convert\" onclick=\"convertToInteractive('df-60e899b6-b021-4ac2-a22f-2856d216ca0a')\"\n",
              "              title=\"Convert this dataframe to an interactive table.\"\n",
              "              style=\"display:none;\">\n",
              "        \n",
              "  <svg xmlns=\"http://www.w3.org/2000/svg\" height=\"24px\"viewBox=\"0 0 24 24\"\n",
              "       width=\"24px\">\n",
              "    <path d=\"M0 0h24v24H0V0z\" fill=\"none\"/>\n",
              "    <path d=\"M18.56 5.44l.94 2.06.94-2.06 2.06-.94-2.06-.94-.94-2.06-.94 2.06-2.06.94zm-11 1L8.5 8.5l.94-2.06 2.06-.94-2.06-.94L8.5 2.5l-.94 2.06-2.06.94zm10 10l.94 2.06.94-2.06 2.06-.94-2.06-.94-.94-2.06-.94 2.06-2.06.94z\"/><path d=\"M17.41 7.96l-1.37-1.37c-.4-.4-.92-.59-1.43-.59-.52 0-1.04.2-1.43.59L10.3 9.45l-7.72 7.72c-.78.78-.78 2.05 0 2.83L4 21.41c.39.39.9.59 1.41.59.51 0 1.02-.2 1.41-.59l7.78-7.78 2.81-2.81c.8-.78.8-2.07 0-2.86zM5.41 20L4 18.59l7.72-7.72 1.47 1.35L5.41 20z\"/>\n",
              "  </svg>\n",
              "      </button>\n",
              "      \n",
              "  <style>\n",
              "    .colab-df-container {\n",
              "      display:flex;\n",
              "      flex-wrap:wrap;\n",
              "      gap: 12px;\n",
              "    }\n",
              "\n",
              "    .colab-df-convert {\n",
              "      background-color: #E8F0FE;\n",
              "      border: none;\n",
              "      border-radius: 50%;\n",
              "      cursor: pointer;\n",
              "      display: none;\n",
              "      fill: #1967D2;\n",
              "      height: 32px;\n",
              "      padding: 0 0 0 0;\n",
              "      width: 32px;\n",
              "    }\n",
              "\n",
              "    .colab-df-convert:hover {\n",
              "      background-color: #E2EBFA;\n",
              "      box-shadow: 0px 1px 2px rgba(60, 64, 67, 0.3), 0px 1px 3px 1px rgba(60, 64, 67, 0.15);\n",
              "      fill: #174EA6;\n",
              "    }\n",
              "\n",
              "    [theme=dark] .colab-df-convert {\n",
              "      background-color: #3B4455;\n",
              "      fill: #D2E3FC;\n",
              "    }\n",
              "\n",
              "    [theme=dark] .colab-df-convert:hover {\n",
              "      background-color: #434B5C;\n",
              "      box-shadow: 0px 1px 3px 1px rgba(0, 0, 0, 0.15);\n",
              "      filter: drop-shadow(0px 1px 2px rgba(0, 0, 0, 0.3));\n",
              "      fill: #FFFFFF;\n",
              "    }\n",
              "  </style>\n",
              "\n",
              "      <script>\n",
              "        const buttonEl =\n",
              "          document.querySelector('#df-60e899b6-b021-4ac2-a22f-2856d216ca0a button.colab-df-convert');\n",
              "        buttonEl.style.display =\n",
              "          google.colab.kernel.accessAllowed ? 'block' : 'none';\n",
              "\n",
              "        async function convertToInteractive(key) {\n",
              "          const element = document.querySelector('#df-60e899b6-b021-4ac2-a22f-2856d216ca0a');\n",
              "          const dataTable =\n",
              "            await google.colab.kernel.invokeFunction('convertToInteractive',\n",
              "                                                     [key], {});\n",
              "          if (!dataTable) return;\n",
              "\n",
              "          const docLinkHtml = 'Like what you see? Visit the ' +\n",
              "            '<a target=\"_blank\" href=https://colab.research.google.com/notebooks/data_table.ipynb>data table notebook</a>'\n",
              "            + ' to learn more about interactive tables.';\n",
              "          element.innerHTML = '';\n",
              "          dataTable['output_type'] = 'display_data';\n",
              "          await google.colab.output.renderOutput(dataTable, element);\n",
              "          const docLink = document.createElement('div');\n",
              "          docLink.innerHTML = docLinkHtml;\n",
              "          element.appendChild(docLink);\n",
              "        }\n",
              "      </script>\n",
              "    </div>\n",
              "  </div>\n",
              "  "
            ]
          },
          "metadata": {},
          "execution_count": 108
        }
      ]
    },
    {
      "cell_type": "code",
      "source": [
        "regr = LogisticRegression(learning_rate=0.8, epochs=2000, batch_size=5000, l1_penalty = 0.000001, l2_penalty = 0.00005)\n",
        "\n",
        "regr.fit(X_train, y_train)\n",
        "\n",
        "regr.plot_cost()\n",
        "\n",
        "print( 'train Accuracy: %.4f; test Accuracy: %.4f' % (regr.score(X_train, y_train), regr.score(X_test, y_test)))\n",
        "\n",
        "regr.classification_report(X_test, y_test)"
      ],
      "metadata": {
        "colab": {
          "base_uri": "https://localhost:8080/",
          "height": 394
        },
        "id": "OfsVB-eptVYJ",
        "outputId": "e88203ae-430c-47a5-ab74-7f39501eee38"
      },
      "execution_count": null,
      "outputs": [
        {
          "output_type": "display_data",
          "data": {
            "text/plain": [
              "<Figure size 576x288 with 1 Axes>"
            ],
            "image/png": "[encoded data removed]"
          },
          "metadata": {}
        },
        {
          "output_type": "stream",
          "name": "stdout",
          "text": [
            "train Accuracy: 0.8080; test Accuracy: 0.8125\n",
            "True Positives:3281\tFalse Positives:688\n",
            "False Negatives:1124\tTrue Negatives:4573\n",
            "Accuracy:0.8125\n",
            "Recall:0.7448\tPrecision:0.8267\n",
            "f1 measure:0.7836\n"
          ]
        }
      ]
    },
    {
      "cell_type": "code",
      "source": [
        "w, b = regr.get_w_and_b()\n",
        "plt.bar(x = range(w.size),height=w)\n",
        "plt.xticks(range(w.size),features_names, rotation = 45 );"
      ],
      "metadata": {
        "colab": {
          "base_uri": "https://localhost:8080/",
          "height": 352
        },
        "id": "f39_3JsHrm12",
        "outputId": "a133bbf5-423c-4e96-8330-baf2db26669b"
      },
      "execution_count": null,
      "outputs": [
        {
          "output_type": "display_data",
          "data": {
            "text/plain": [
              "<Figure size 432x288 with 1 Axes>"
            ],
            "image/png": "[encoded data removed]"
          },
          "metadata": {}
        }
      ]
    },
    {
      "cell_type": "code",
      "source": [
        "regr = LogisticRegression(learning_rate=1, epochs=3000, batch_size=5000, l1_penalty = 0.000001, l2_penalty = 0.000001)\n",
        "\n",
        "regr.fit(X_train, y_train)\n",
        "\n",
        "regr.plot_cost()\n",
        "\n",
        "print( 'train Accuracy: %.4f; test Accuracy: %.4f' % (regr.score(X_train, y_train), regr.score(X_test, y_test)))\n",
        "\n",
        "regr.classification_report(X_test, y_test)"
      ],
      "metadata": {
        "colab": {
          "base_uri": "https://localhost:8080/",
          "height": 394
        },
        "id": "8x_Ev5iUrXYn",
        "outputId": "0b2a8a53-b958-4027-a945-c01ad029cec9"
      },
      "execution_count": null,
      "outputs": [
        {
          "output_type": "display_data",
          "data": {
            "text/plain": [
              "<Figure size 576x288 with 1 Axes>"
            ],
            "image/png": "[encoded data removed]"
          },
          "metadata": {}
        },
        {
          "output_type": "stream",
          "name": "stdout",
          "text": [
            "train Accuracy: 0.8094; test Accuracy: 0.8158\n",
            "True Positives:3285\tFalse Positives:660\n",
            "False Negatives:1120\tTrue Negatives:4601\n",
            "Accuracy:0.8158\n",
            "Recall:0.7457\tPrecision:0.8327\n",
            "f1 measure:0.7868\n"
          ]
        }
      ]
    },
    {
      "cell_type": "markdown",
      "source": [
        "При одинаковых гиперпараметрах степенное преобразование немного ухудшает результат, в то время как нормализация и стандартизация дают более высокие результаты. "
      ],
      "metadata": {
        "id": "1ZKiyRwTtcy4"
      }
    },
    {
      "cell_type": "markdown",
      "source": [
        "### cars_ohe - one hot encoding"
      ],
      "metadata": {
        "id": "t2BoP30blb5f"
      }
    },
    {
      "cell_type": "markdown",
      "source": [
        "Создадим копию датафрейма с предварительной нормализацией и заменим все категориальные признаки на числовые с помощью OHE"
      ],
      "metadata": {
        "id": "fCPlNk6v5mIw"
      }
    },
    {
      "cell_type": "code",
      "source": [
        "cars_ohe = cars_norm.copy()\n",
        "cars_ohe = pd.get_dummies(cars_ohe)"
      ],
      "metadata": {
        "id": "ljuHhuZ4lDoN"
      },
      "execution_count": null,
      "outputs": []
    },
    {
      "cell_type": "code",
      "source": [
        "df_num_p = cars_ohe.copy()\n",
        "\n",
        "X = df_num_p.drop(columns = 'Transmission').values\n",
        "features_names = df_num_p.drop(columns = 'Transmission').columns\n",
        "\n",
        "y = df_num_p['Transmission'].values\n",
        "\n",
        "X_train, X_test, y_train, y_test = train_test_split(X, y, test_size=0.3, random_state=42)\n",
        "\n",
        "scaler  = MinMaxScaler()\n",
        "X_train = scaler.fit_transform(X_train)\n",
        "X_test  = scaler.transform(X_test) \n",
        "pd.DataFrame(X_train).tail()"
      ],
      "metadata": {
        "id": "S9yscmZuuYG-",
        "colab": {
          "base_uri": "https://localhost:8080/",
          "height": 236
        },
        "outputId": "92277da0-866e-4a19-c86f-f36373a00d8e"
      },
      "execution_count": null,
      "outputs": [
        {
          "output_type": "execute_result",
          "data": {
            "text/plain": [
              "        0         1         2         3     4         5         6    7    8    \\\n",
              "22549  0.40  0.011012  0.291667  0.006513  0.60  0.005179  0.291667  0.0  0.0   \n",
              "22550  0.74  0.208921  0.270833  0.061112  0.26  0.297166  0.270833  0.0  0.0   \n",
              "22551  0.84  0.155127  0.270833  0.078146  0.16  0.343601  0.270833  0.0  0.0   \n",
              "22552  0.84  0.219922  0.229167  0.066132  0.16  0.487865  0.229167  0.0  0.0   \n",
              "22553  0.94  0.049905  0.375000  0.251503  0.06  0.248497  0.375000  0.0  0.0   \n",
              "\n",
              "       9    ...  844  845  846  847  848  849  850  851  852  853  \n",
              "22549  0.0  ...  0.0  1.0  0.0  0.0  0.0  1.0  0.0  0.0  0.0  1.0  \n",
              "22550  0.0  ...  0.0  0.0  0.0  0.0  1.0  0.0  0.0  0.0  0.0  1.0  \n",
              "22551  0.0  ...  0.0  0.0  0.0  0.0  1.0  0.0  0.0  0.0  0.0  1.0  \n",
              "22552  0.0  ...  0.0  1.0  0.0  1.0  0.0  0.0  0.0  0.0  0.0  1.0  \n",
              "22553  0.0  ...  0.0  1.0  0.0  0.0  1.0  0.0  0.0  0.0  1.0  0.0  \n",
              "\n",
              "[5 rows x 854 columns]"
            ],
            "text/html": [
              "\n",
              "  <div id=\"df-f1994815-094b-48f9-83c2-42d4f1ed57e8\">\n",
              "    <div class=\"colab-df-container\">\n",
              "      <div>\n",
              "<style scoped>\n",
              "    .dataframe tbody tr th:only-of-type {\n",
              "        vertical-align: middle;\n",
              "    }\n",
              "\n",
              "    .dataframe tbody tr th {\n",
              "        vertical-align: top;\n",
              "    }\n",
              "\n",
              "    .dataframe thead th {\n",
              "        text-align: right;\n",
              "    }\n",
              "</style>\n",
              "<table border=\"1\" class=\"dataframe\">\n",
              "  <thead>\n",
              "    <tr style=\"text-align: right;\">\n",
              "      <th></th>\n",
              "      <th>0</th>\n",
              "      <th>1</th>\n",
              "      <th>2</th>\n",
              "      <th>3</th>\n",
              "      <th>4</th>\n",
              "      <th>5</th>\n",
              "      <th>6</th>\n",
              "      <th>7</th>\n",
              "      <th>8</th>\n",
              "      <th>9</th>\n",
              "      <th>...</th>\n",
              "      <th>844</th>\n",
              "      <th>845</th>\n",
              "      <th>846</th>\n",
              "      <th>847</th>\n",
              "      <th>848</th>\n",
              "      <th>849</th>\n",
              "      <th>850</th>\n",
              "      <th>851</th>\n",
              "      <th>852</th>\n",
              "      <th>853</th>\n",
              "    </tr>\n",
              "  </thead>\n",
              "  <tbody>\n",
              "    <tr>\n",
              "      <th>22549</th>\n",
              "      <td>0.40</td>\n",
              "      <td>0.011012</td>\n",
              "      <td>0.291667</td>\n",
              "      <td>0.006513</td>\n",
              "      <td>0.60</td>\n",
              "      <td>0.005179</td>\n",
              "      <td>0.291667</td>\n",
              "      <td>0.0</td>\n",
              "      <td>0.0</td>\n",
              "      <td>0.0</td>\n",
              "      <td>...</td>\n",
              "      <td>0.0</td>\n",
              "      <td>1.0</td>\n",
              "      <td>0.0</td>\n",
              "      <td>0.0</td>\n",
              "      <td>0.0</td>\n",
              "      <td>1.0</td>\n",
              "      <td>0.0</td>\n",
              "      <td>0.0</td>\n",
              "      <td>0.0</td>\n",
              "      <td>1.0</td>\n",
              "    </tr>\n",
              "    <tr>\n",
              "      <th>22550</th>\n",
              "      <td>0.74</td>\n",
              "      <td>0.208921</td>\n",
              "      <td>0.270833</td>\n",
              "      <td>0.061112</td>\n",
              "      <td>0.26</td>\n",
              "      <td>0.297166</td>\n",
              "      <td>0.270833</td>\n",
              "      <td>0.0</td>\n",
              "      <td>0.0</td>\n",
              "      <td>0.0</td>\n",
              "      <td>...</td>\n",
              "      <td>0.0</td>\n",
              "      <td>0.0</td>\n",
              "      <td>0.0</td>\n",
              "      <td>0.0</td>\n",
              "      <td>1.0</td>\n",
              "      <td>0.0</td>\n",
              "      <td>0.0</td>\n",
              "      <td>0.0</td>\n",
              "      <td>0.0</td>\n",
              "      <td>1.0</td>\n",
              "    </tr>\n",
              "    <tr>\n",
              "      <th>22551</th>\n",
              "      <td>0.84</td>\n",
              "      <td>0.155127</td>\n",
              "      <td>0.270833</td>\n",
              "      <td>0.078146</td>\n",
              "      <td>0.16</td>\n",
              "      <td>0.343601</td>\n",
              "      <td>0.270833</td>\n",
              "      <td>0.0</td>\n",
              "      <td>0.0</td>\n",
              "      <td>0.0</td>\n",
              "      <td>...</td>\n",
              "      <td>0.0</td>\n",
              "      <td>0.0</td>\n",
              "      <td>0.0</td>\n",
              "      <td>0.0</td>\n",
              "      <td>1.0</td>\n",
              "      <td>0.0</td>\n",
              "      <td>0.0</td>\n",
              "      <td>0.0</td>\n",
              "      <td>0.0</td>\n",
              "      <td>1.0</td>\n",
              "    </tr>\n",
              "    <tr>\n",
              "      <th>22552</th>\n",
              "      <td>0.84</td>\n",
              "      <td>0.219922</td>\n",
              "      <td>0.229167</td>\n",
              "      <td>0.066132</td>\n",
              "      <td>0.16</td>\n",
              "      <td>0.487865</td>\n",
              "      <td>0.229167</td>\n",
              "      <td>0.0</td>\n",
              "      <td>0.0</td>\n",
              "      <td>0.0</td>\n",
              "      <td>...</td>\n",
              "      <td>0.0</td>\n",
              "      <td>1.0</td>\n",
              "      <td>0.0</td>\n",
              "      <td>1.0</td>\n",
              "      <td>0.0</td>\n",
              "      <td>0.0</td>\n",
              "      <td>0.0</td>\n",
              "      <td>0.0</td>\n",
              "      <td>0.0</td>\n",
              "      <td>1.0</td>\n",
              "    </tr>\n",
              "    <tr>\n",
              "      <th>22553</th>\n",
              "      <td>0.94</td>\n",
              "      <td>0.049905</td>\n",
              "      <td>0.375000</td>\n",
              "      <td>0.251503</td>\n",
              "      <td>0.06</td>\n",
              "      <td>0.248497</td>\n",
              "      <td>0.375000</td>\n",
              "      <td>0.0</td>\n",
              "      <td>0.0</td>\n",
              "      <td>0.0</td>\n",
              "      <td>...</td>\n",
              "      <td>0.0</td>\n",
              "      <td>1.0</td>\n",
              "      <td>0.0</td>\n",
              "      <td>0.0</td>\n",
              "      <td>1.0</td>\n",
              "      <td>0.0</td>\n",
              "      <td>0.0</td>\n",
              "      <td>0.0</td>\n",
              "      <td>1.0</td>\n",
              "      <td>0.0</td>\n",
              "    </tr>\n",
              "  </tbody>\n",
              "</table>\n",
              "<p>5 rows × 854 columns</p>\n",
              "</div>\n",
              "      <button class=\"colab-df-convert\" onclick=\"convertToInteractive('df-f1994815-094b-48f9-83c2-42d4f1ed57e8')\"\n",
              "              title=\"Convert this dataframe to an interactive table.\"\n",
              "              style=\"display:none;\">\n",
              "        \n",
              "  <svg xmlns=\"http://www.w3.org/2000/svg\" height=\"24px\"viewBox=\"0 0 24 24\"\n",
              "       width=\"24px\">\n",
              "    <path d=\"M0 0h24v24H0V0z\" fill=\"none\"/>\n",
              "    <path d=\"M18.56 5.44l.94 2.06.94-2.06 2.06-.94-2.06-.94-.94-2.06-.94 2.06-2.06.94zm-11 1L8.5 8.5l.94-2.06 2.06-.94-2.06-.94L8.5 2.5l-.94 2.06-2.06.94zm10 10l.94 2.06.94-2.06 2.06-.94-2.06-.94-.94-2.06-.94 2.06-2.06.94z\"/><path d=\"M17.41 7.96l-1.37-1.37c-.4-.4-.92-.59-1.43-.59-.52 0-1.04.2-1.43.59L10.3 9.45l-7.72 7.72c-.78.78-.78 2.05 0 2.83L4 21.41c.39.39.9.59 1.41.59.51 0 1.02-.2 1.41-.59l7.78-7.78 2.81-2.81c.8-.78.8-2.07 0-2.86zM5.41 20L4 18.59l7.72-7.72 1.47 1.35L5.41 20z\"/>\n",
              "  </svg>\n",
              "      </button>\n",
              "      \n",
              "  <style>\n",
              "    .colab-df-container {\n",
              "      display:flex;\n",
              "      flex-wrap:wrap;\n",
              "      gap: 12px;\n",
              "    }\n",
              "\n",
              "    .colab-df-convert {\n",
              "      background-color: #E8F0FE;\n",
              "      border: none;\n",
              "      border-radius: 50%;\n",
              "      cursor: pointer;\n",
              "      display: none;\n",
              "      fill: #1967D2;\n",
              "      height: 32px;\n",
              "      padding: 0 0 0 0;\n",
              "      width: 32px;\n",
              "    }\n",
              "\n",
              "    .colab-df-convert:hover {\n",
              "      background-color: #E2EBFA;\n",
              "      box-shadow: 0px 1px 2px rgba(60, 64, 67, 0.3), 0px 1px 3px 1px rgba(60, 64, 67, 0.15);\n",
              "      fill: #174EA6;\n",
              "    }\n",
              "\n",
              "    [theme=dark] .colab-df-convert {\n",
              "      background-color: #3B4455;\n",
              "      fill: #D2E3FC;\n",
              "    }\n",
              "\n",
              "    [theme=dark] .colab-df-convert:hover {\n",
              "      background-color: #434B5C;\n",
              "      box-shadow: 0px 1px 3px 1px rgba(0, 0, 0, 0.15);\n",
              "      filter: drop-shadow(0px 1px 2px rgba(0, 0, 0, 0.3));\n",
              "      fill: #FFFFFF;\n",
              "    }\n",
              "  </style>\n",
              "\n",
              "      <script>\n",
              "        const buttonEl =\n",
              "          document.querySelector('#df-f1994815-094b-48f9-83c2-42d4f1ed57e8 button.colab-df-convert');\n",
              "        buttonEl.style.display =\n",
              "          google.colab.kernel.accessAllowed ? 'block' : 'none';\n",
              "\n",
              "        async function convertToInteractive(key) {\n",
              "          const element = document.querySelector('#df-f1994815-094b-48f9-83c2-42d4f1ed57e8');\n",
              "          const dataTable =\n",
              "            await google.colab.kernel.invokeFunction('convertToInteractive',\n",
              "                                                     [key], {});\n",
              "          if (!dataTable) return;\n",
              "\n",
              "          const docLinkHtml = 'Like what you see? Visit the ' +\n",
              "            '<a target=\"_blank\" href=https://colab.research.google.com/notebooks/data_table.ipynb>data table notebook</a>'\n",
              "            + ' to learn more about interactive tables.';\n",
              "          element.innerHTML = '';\n",
              "          dataTable['output_type'] = 'display_data';\n",
              "          await google.colab.output.renderOutput(dataTable, element);\n",
              "          const docLink = document.createElement('div');\n",
              "          docLink.innerHTML = docLinkHtml;\n",
              "          element.appendChild(docLink);\n",
              "        }\n",
              "      </script>\n",
              "    </div>\n",
              "  </div>\n",
              "  "
            ]
          },
          "metadata": {},
          "execution_count": 112
        }
      ]
    },
    {
      "cell_type": "code",
      "source": [
        "regr = LogisticRegression(learning_rate=1, epochs=3000, batch_size=5000, l1_penalty = 0.000001, l2_penalty = 0.000001)\n",
        "\n",
        "regr.fit(X_train, y_train)\n",
        "\n",
        "regr.plot_cost()\n",
        "\n",
        "print( 'train Accuracy: %.4f; test Accuracy: %.4f' % (regr.score(X_train, y_train), regr.score(X_test, y_test)))\n",
        "\n",
        "regr.classification_report(X_test, y_test)"
      ],
      "metadata": {
        "colab": {
          "base_uri": "https://localhost:8080/",
          "height": 394
        },
        "id": "k3Mv3LeaugKk",
        "outputId": "cc5233ea-fdac-4843-ad81-1e164fed6e45"
      },
      "execution_count": null,
      "outputs": [
        {
          "output_type": "display_data",
          "data": {
            "text/plain": [
              "<Figure size 576x288 with 1 Axes>"
            ],
            "image/png": "[encoded data removed]"
          },
          "metadata": {}
        },
        {
          "output_type": "stream",
          "name": "stdout",
          "text": [
            "train Accuracy: 0.8599; test Accuracy: 0.8606\n",
            "True Positives:3585\tFalse Positives:527\n",
            "False Negatives:820\tTrue Negatives:4734\n",
            "Accuracy:0.8606\n",
            "Recall:0.8138\tPrecision:0.8718\n",
            "f1 measure:0.8418\n"
          ]
        }
      ]
    },
    {
      "cell_type": "markdown",
      "source": [
        "Точность возросла в сравнении с применением регрессией к только числовым признакам"
      ],
      "metadata": {
        "id": "oSsYbtKAu4sW"
      }
    },
    {
      "cell_type": "markdown",
      "source": [
        "## Выводы"
      ],
      "metadata": {
        "id": "NgLW7GkcuwLk"
      }
    },
    {
      "cell_type": "markdown",
      "source": [
        "Используя one hot encoding в сочетании с нормализацией удалось добиться более высоких результатов как на тестовой, так и на тренировочной выборках."
      ],
      "metadata": {
        "id": "iM9g6r6rv8HK"
      }
    },
    {
      "cell_type": "markdown",
      "source": [
        "Проанализировав веса моделей, можно установить, что наиболее значимые признаки для предсказания типа трансмиссии -- цена и объем двигателя автомобиля.Также существенное влияние оказывает возраст, в то время как остальные признаки влияют в гораздо меньшей степени. "
      ],
      "metadata": {
        "id": "1zerbqa-trXS"
      }
    }
  ]
}